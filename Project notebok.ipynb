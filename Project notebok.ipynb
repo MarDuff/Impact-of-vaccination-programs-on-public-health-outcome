{
 "cells": [
  {
   "cell_type": "markdown",
   "id": "c7b6872b",
   "metadata": {},
   "source": [
    "### About Dataset\n",
    "\n",
    "#### Context\n",
    "All about a focus on the impact of incentice programs across the US states to enhance vaccinations for COVID-19. It is important to track and understand the effort that is in progress across the country to administer doses of vaccinations.  This information are from the CDC that is captured and presented here. Additionally, we have tried to include the report of the JAMA Network reporting on where the incentive programs were implanted accros the country.\n",
    "\n",
    "#### Content\n",
    "There are two files.\n",
    "a) Latest Global Covid-19 Vaccine tracker of US Juridictions as of May 10, 2023\n",
    "b) US State Use of COVID-19 Vaccine Incentives (JAMA Netw Open)\n",
    "\n",
    "#### Feature Information for COVID19 vaccination Tracker file\n",
    "Jurisdiction (State/Territory) or Federal Entity,Total doses distributed,Doses distributed per 100k pop,Doses distributed by jurisdiction per 100k of 18+ pop,Total doses administered by jurisdiction, Doses administered by jurisdiction per 100k pop, Doses administered by jurisdiction to 18+ pop, Doses administered by jurisdiction per 100k of 18+ pop, Residents with at least one dose, Percent of total pop with at least one dose, Residents 18+ with at least one dose\tPercent of 18+ pop with at least one dose, Residents with a completed primary series, Percent of total pop with a completed primary series\tResidents 18+ with a completed primary series, Percent of 18+ pop with a completed primary series, Total number of original Pfizer doses distributed, Total number of Pfizer updated booster doses distributed, Total number of original Moderna doses distributed\tTotal number of Moderna updated booster doses distributed, Total number of Janssen doses distributed, Total number of Novavax doses distributed\tTotal number of doses from other manufacturer distributed, Total number of Janssen doses administered, Total number of original Moderna doses administered, Total number of Moderna updated booster doses administered, Total number of original Pfizer doses administered, Total number of Pfizer updated booster doses administered, Total number of Novavax doses administered, Total number of doses from other manufacturer administered, Residents 65+ with at least one dose, Percent of 65+ pop with at least one dose\tResidents 65+ with a completed primary series\tPercent of 65+ pop with a completed primary series\tDoses administered by jurisdiction to 65+ pop\tDoses administered by jurisdiction per 100k of 65+ pop, Doses distributed by jurisdiction per 100k of 65+ pop, Residents 12+ with at least one dose, Percent of 12+ pop with at least one dose, Residents 12+ with a completed primary series, Percent of 12+ pop with a completed primary series\tDoses administered by jurisdiction to 12+ pop\tDoses administered by jurisdiction per 100k of 12+ pop\tDoses distributed by jurisdiction per 100k of 12+ pop\tResidents 5+ with at least one dose\tPercent of 5+ pop with at least one dose\tResidents 5+ with a completed primary series\tPercent of 5+ pop with a completed primary series\tDoses administered by jurisdiction to 5+ pop, Doses administered by jurisdiction per 100k of 5+ pop\tDoses distributed by jurisdiction per 100k of 5+ pop, Residents with an updated (bivalent) booster dose\tPercent of pop with an updated (bivalent) booster dose\tResidents 5+ with an updated (bivalent) booster dose\tPercent of 5+ pop with an updated (bivalent) booster dose\tResidents 12+ with an updated (bivalent) booster dose\tPercent of 12+ pop with an updated (bivalent) booster dose\tResidents 18+ with an updated (bivalent) booster dose\tPercent of 18+ pop with an updated (bivalent) booster dose\tResidents 65+ with an updated (bivalent) booster dose\tPercent of 65+ pop with an updated (bivalent) booster dose\tChildren <5 with at least one dose\tTotal number of updated (bivalent) booster doses administered\t\n",
    "\n",
    "#### Feature Information for US State Use of COVID-19 Vaccine Incentives (JAMA Netw Open)\n",
    "Political Affiliation, Non-incentive, Covid-19 mitigation policy,Lottery,Guaranteed\n",
    "\n",
    "#### Source\n",
    "URL1: https://covid.cdc.gov/covid-data-tracker/#vaccinations_vacc-total-admin-rate-total\n",
    "\n",
    "URL2: US State Use of COVID-19 Vaccine Incentives (JAMA Netw Open. 2022 Oct; 5(10):e2235328)\n",
    "\n",
    "\n"
   ]
  },
  {
   "cell_type": "code",
   "execution_count": 285,
   "id": "6702981d",
   "metadata": {},
   "outputs": [],
   "source": [
    "#import libraries\n",
    "import pandas as pd\n",
    "import numpy as np\n",
    "import matplotlib.pyplot as plt\n",
    "import seaborn as sns\n",
    "import os\n",
    "%matplotlib inline"
   ]
  },
  {
   "cell_type": "code",
   "execution_count": 286,
   "id": "6746c796",
   "metadata": {},
   "outputs": [
    {
     "data": {
      "text/html": [
       "<div>\n",
       "<style scoped>\n",
       "    .dataframe tbody tr th:only-of-type {\n",
       "        vertical-align: middle;\n",
       "    }\n",
       "\n",
       "    .dataframe tbody tr th {\n",
       "        vertical-align: top;\n",
       "    }\n",
       "\n",
       "    .dataframe thead th {\n",
       "        text-align: right;\n",
       "    }\n",
       "</style>\n",
       "<table border=\"1\" class=\"dataframe\">\n",
       "  <thead>\n",
       "    <tr style=\"text-align: right;\">\n",
       "      <th></th>\n",
       "      <th>jurisdiction (state/territory) or federal entity</th>\n",
       "      <th>total doses distributed</th>\n",
       "      <th>doses distributed per 100k pop</th>\n",
       "      <th>doses distributed by jurisdiction per 100k of 18+ pop</th>\n",
       "      <th>total doses administered by jurisdiction</th>\n",
       "      <th>doses administered by jurisdiction per 100k pop</th>\n",
       "      <th>doses administered by jurisdiction to 18+ pop</th>\n",
       "      <th>doses administered by jurisdiction per 100k of 18+ pop</th>\n",
       "      <th>residents with at least one dose</th>\n",
       "      <th>percent of total pop with at least one dose</th>\n",
       "      <th>...</th>\n",
       "      <th>residents 18+ with an updated (bivalent) booster dose</th>\n",
       "      <th>percent of 18+ pop with an updated (bivalent) booster dose</th>\n",
       "      <th>residents 65+ with an updated (bivalent) booster dose</th>\n",
       "      <th>percent of 65+ pop with an updated (bivalent) booster dose</th>\n",
       "      <th>children &lt;5 with at least one dose</th>\n",
       "      <th>total number of updated (bivalent) booster doses administered</th>\n",
       "      <th>political affiliation</th>\n",
       "      <th>non-incentive covid-19 mitigation policy</th>\n",
       "      <th>lottery</th>\n",
       "      <th>guaranteed</th>\n",
       "    </tr>\n",
       "  </thead>\n",
       "  <tbody>\n",
       "    <tr>\n",
       "      <th>0</th>\n",
       "      <td>United States</td>\n",
       "      <td>984444295</td>\n",
       "      <td>296511</td>\n",
       "      <td>381249</td>\n",
       "      <td>676728782</td>\n",
       "      <td>203829</td>\n",
       "      <td>607682588</td>\n",
       "      <td>235339</td>\n",
       "      <td>270227181</td>\n",
       "      <td>81.4</td>\n",
       "      <td>...</td>\n",
       "      <td>52996306</td>\n",
       "      <td>20.5</td>\n",
       "      <td>23699191</td>\n",
       "      <td>43.3</td>\n",
       "      <td>1997664.0</td>\n",
       "      <td>57512608.0</td>\n",
       "      <td>2</td>\n",
       "      <td>2</td>\n",
       "      <td>2</td>\n",
       "      <td>2</td>\n",
       "    </tr>\n",
       "    <tr>\n",
       "      <th>1</th>\n",
       "      <td>Alaska</td>\n",
       "      <td>2176065</td>\n",
       "      <td>297462</td>\n",
       "      <td>394528</td>\n",
       "      <td>1328221</td>\n",
       "      <td>181564</td>\n",
       "      <td>1177565</td>\n",
       "      <td>213496</td>\n",
       "      <td>535718</td>\n",
       "      <td>73.2</td>\n",
       "      <td>...</td>\n",
       "      <td>95906</td>\n",
       "      <td>17.4</td>\n",
       "      <td>39311</td>\n",
       "      <td>42.9</td>\n",
       "      <td>NaN</td>\n",
       "      <td>NaN</td>\n",
       "      <td>R</td>\n",
       "      <td>Yes</td>\n",
       "      <td>No</td>\n",
       "      <td>No</td>\n",
       "    </tr>\n",
       "    <tr>\n",
       "      <th>2</th>\n",
       "      <td>Alabama</td>\n",
       "      <td>12349530</td>\n",
       "      <td>251868</td>\n",
       "      <td>323720</td>\n",
       "      <td>7018011</td>\n",
       "      <td>143132</td>\n",
       "      <td>6526261</td>\n",
       "      <td>171074</td>\n",
       "      <td>3193141</td>\n",
       "      <td>65.1</td>\n",
       "      <td>...</td>\n",
       "      <td>366925</td>\n",
       "      <td>9.6</td>\n",
       "      <td>202699</td>\n",
       "      <td>23.9</td>\n",
       "      <td>NaN</td>\n",
       "      <td>NaN</td>\n",
       "      <td>R</td>\n",
       "      <td>Yes</td>\n",
       "      <td>Yes</td>\n",
       "      <td>No</td>\n",
       "    </tr>\n",
       "    <tr>\n",
       "      <th>3</th>\n",
       "      <td>Arkansas</td>\n",
       "      <td>8373210</td>\n",
       "      <td>277460</td>\n",
       "      <td>361280</td>\n",
       "      <td>4874091</td>\n",
       "      <td>161511</td>\n",
       "      <td>4435479</td>\n",
       "      <td>191378</td>\n",
       "      <td>2115165</td>\n",
       "      <td>70.1</td>\n",
       "      <td>...</td>\n",
       "      <td>317694</td>\n",
       "      <td>13.7</td>\n",
       "      <td>174653</td>\n",
       "      <td>33.3</td>\n",
       "      <td>NaN</td>\n",
       "      <td>NaN</td>\n",
       "      <td>R</td>\n",
       "      <td>No</td>\n",
       "      <td>No</td>\n",
       "      <td>No</td>\n",
       "    </tr>\n",
       "    <tr>\n",
       "      <th>4</th>\n",
       "      <td>American Samoa</td>\n",
       "      <td>128480</td>\n",
       "      <td>271101</td>\n",
       "      <td>410021</td>\n",
       "      <td>115281</td>\n",
       "      <td>243250</td>\n",
       "      <td>85719</td>\n",
       "      <td>273557</td>\n",
       "      <td>46226</td>\n",
       "      <td>95.0</td>\n",
       "      <td>...</td>\n",
       "      <td>568</td>\n",
       "      <td>1.8</td>\n",
       "      <td>199</td>\n",
       "      <td>6.1</td>\n",
       "      <td>NaN</td>\n",
       "      <td>NaN</td>\n",
       "      <td>R</td>\n",
       "      <td>Yes</td>\n",
       "      <td>Yes</td>\n",
       "      <td>No</td>\n",
       "    </tr>\n",
       "  </tbody>\n",
       "</table>\n",
       "<p>5 rows × 67 columns</p>\n",
       "</div>"
      ],
      "text/plain": [
       "  jurisdiction (state/territory) or federal entity  total doses distributed  \\\n",
       "0                                    United States                984444295   \n",
       "1                                           Alaska                  2176065   \n",
       "2                                          Alabama                 12349530   \n",
       "3                                         Arkansas                  8373210   \n",
       "4                                   American Samoa                   128480   \n",
       "\n",
       "   doses distributed per 100k pop  \\\n",
       "0                          296511   \n",
       "1                          297462   \n",
       "2                          251868   \n",
       "3                          277460   \n",
       "4                          271101   \n",
       "\n",
       "   doses distributed by jurisdiction per 100k of 18+ pop  \\\n",
       "0                                             381249       \n",
       "1                                             394528       \n",
       "2                                             323720       \n",
       "3                                             361280       \n",
       "4                                             410021       \n",
       "\n",
       "   total doses administered by jurisdiction  \\\n",
       "0                                 676728782   \n",
       "1                                   1328221   \n",
       "2                                   7018011   \n",
       "3                                   4874091   \n",
       "4                                    115281   \n",
       "\n",
       "   doses administered by jurisdiction per 100k pop  \\\n",
       "0                                           203829   \n",
       "1                                           181564   \n",
       "2                                           143132   \n",
       "3                                           161511   \n",
       "4                                           243250   \n",
       "\n",
       "   doses administered by jurisdiction to 18+ pop  \\\n",
       "0                                      607682588   \n",
       "1                                        1177565   \n",
       "2                                        6526261   \n",
       "3                                        4435479   \n",
       "4                                          85719   \n",
       "\n",
       "   doses administered by jurisdiction per 100k of 18+ pop  \\\n",
       "0                                             235339        \n",
       "1                                             213496        \n",
       "2                                             171074        \n",
       "3                                             191378        \n",
       "4                                             273557        \n",
       "\n",
       "   residents with at least one dose  \\\n",
       "0                         270227181   \n",
       "1                            535718   \n",
       "2                           3193141   \n",
       "3                           2115165   \n",
       "4                             46226   \n",
       "\n",
       "   percent of total pop with at least one dose  ...  \\\n",
       "0                                         81.4  ...   \n",
       "1                                         73.2  ...   \n",
       "2                                         65.1  ...   \n",
       "3                                         70.1  ...   \n",
       "4                                         95.0  ...   \n",
       "\n",
       "   residents 18+ with an updated (bivalent) booster dose  \\\n",
       "0                                           52996306       \n",
       "1                                              95906       \n",
       "2                                             366925       \n",
       "3                                             317694       \n",
       "4                                                568       \n",
       "\n",
       "   percent of 18+ pop with an updated (bivalent) booster dose  \\\n",
       "0                                               20.5            \n",
       "1                                               17.4            \n",
       "2                                                9.6            \n",
       "3                                               13.7            \n",
       "4                                                1.8            \n",
       "\n",
       "   residents 65+ with an updated (bivalent) booster dose  \\\n",
       "0                                           23699191       \n",
       "1                                              39311       \n",
       "2                                             202699       \n",
       "3                                             174653       \n",
       "4                                                199       \n",
       "\n",
       "   percent of 65+ pop with an updated (bivalent) booster dose  \\\n",
       "0                                               43.3            \n",
       "1                                               42.9            \n",
       "2                                               23.9            \n",
       "3                                               33.3            \n",
       "4                                                6.1            \n",
       "\n",
       "   children <5 with at least one dose  \\\n",
       "0                           1997664.0   \n",
       "1                                 NaN   \n",
       "2                                 NaN   \n",
       "3                                 NaN   \n",
       "4                                 NaN   \n",
       "\n",
       "   total number of updated (bivalent) booster doses administered  \\\n",
       "0                                         57512608.0               \n",
       "1                                                NaN               \n",
       "2                                                NaN               \n",
       "3                                                NaN               \n",
       "4                                                NaN               \n",
       "\n",
       "   political affiliation  non-incentive covid-19 mitigation policy  lottery  \\\n",
       "0                      2                                         2        2   \n",
       "1                      R                                       Yes       No   \n",
       "2                      R                                       Yes      Yes   \n",
       "3                      R                                        No       No   \n",
       "4                      R                                       Yes      Yes   \n",
       "\n",
       "   guaranteed  \n",
       "0           2  \n",
       "1          No  \n",
       "2          No  \n",
       "3          No  \n",
       "4          No  \n",
       "\n",
       "[5 rows x 67 columns]"
      ]
     },
     "execution_count": 286,
     "metadata": {},
     "output_type": "execute_result"
    }
   ],
   "source": [
    "# import data\n",
    "data=pd.read_csv('USA_convid 19_vaccines_2023.csv')\n",
    "data.rename(columns=lambda x: x.lower(), inplace=True)\n",
    "data.rename(columns={}, inplace=True)\n",
    "\n",
    "data.head()"
   ]
  },
  {
   "cell_type": "markdown",
   "id": "b5609593",
   "metadata": {},
   "source": [
    "### 1. Data Cleaning and Processing"
   ]
  },
  {
   "cell_type": "code",
   "execution_count": 287,
   "id": "4630f7ef",
   "metadata": {},
   "outputs": [],
   "source": [
    "df= data.drop(columns=data.columns[6:63:])"
   ]
  },
  {
   "cell_type": "code",
   "execution_count": 288,
   "id": "47b09baa",
   "metadata": {},
   "outputs": [
    {
     "data": {
      "text/plain": [
       "jurisdiction (state/territory) or federal entity         object\n",
       "total doses distributed                                   int64\n",
       "doses distributed per 100k pop                            int64\n",
       "doses distributed by jurisdiction per 100k of 18+ pop     int64\n",
       "total doses administered by jurisdiction                  int64\n",
       "doses administered by jurisdiction per 100k pop           int64\n",
       "political affiliation                                    object\n",
       "non-incentive covid-19 mitigation policy                 object\n",
       "lottery                                                  object\n",
       "guaranteed                                               object\n",
       "dtype: object"
      ]
     },
     "execution_count": 288,
     "metadata": {},
     "output_type": "execute_result"
    }
   ],
   "source": [
    "df.dtypes \n",
    "#To know whether I'm dealing with numerical or categorical data"
   ]
  },
  {
   "cell_type": "code",
   "execution_count": 289,
   "id": "7eb09ffc",
   "metadata": {},
   "outputs": [
    {
     "data": {
      "text/plain": [
       "(59, 10)"
      ]
     },
     "execution_count": 289,
     "metadata": {},
     "output_type": "execute_result"
    }
   ],
   "source": [
    "#data size\n",
    "df.shape"
   ]
  },
  {
   "cell_type": "code",
   "execution_count": 290,
   "id": "243aaa5b",
   "metadata": {},
   "outputs": [
    {
     "data": {
      "text/plain": [
       "jurisdiction (state/territory) or federal entity         0\n",
       "total doses distributed                                  0\n",
       "doses distributed per 100k pop                           0\n",
       "doses distributed by jurisdiction per 100k of 18+ pop    0\n",
       "total doses administered by jurisdiction                 0\n",
       "doses administered by jurisdiction per 100k pop          0\n",
       "political affiliation                                    0\n",
       "non-incentive covid-19 mitigation policy                 0\n",
       "lottery                                                  0\n",
       "guaranteed                                               0\n",
       "dtype: int64"
      ]
     },
     "execution_count": 290,
     "metadata": {},
     "output_type": "execute_result"
    }
   ],
   "source": [
    "#missing values\n",
    "df.isnull().sum()"
   ]
  },
  {
   "cell_type": "markdown",
   "id": "c56e4d54",
   "metadata": {},
   "source": [
    "#### As I can see here, there is no missing value in this case. "
   ]
  },
  {
   "cell_type": "code",
   "execution_count": 291,
   "id": "3f5483d3",
   "metadata": {},
   "outputs": [
    {
     "data": {
      "text/plain": [
       "0"
      ]
     },
     "execution_count": 291,
     "metadata": {},
     "output_type": "execute_result"
    }
   ],
   "source": [
    "# check duplicated values\n",
    "df.duplicated().sum()"
   ]
  },
  {
   "cell_type": "code",
   "execution_count": 292,
   "id": "c0b820c5",
   "metadata": {},
   "outputs": [],
   "source": [
    "#clean data to remove Nan values\n",
    "clean_df = df.dropna()\n"
   ]
  },
  {
   "cell_type": "code",
   "execution_count": 293,
   "id": "db16fc1a",
   "metadata": {},
   "outputs": [
    {
     "data": {
      "text/html": [
       "<div>\n",
       "<style scoped>\n",
       "    .dataframe tbody tr th:only-of-type {\n",
       "        vertical-align: middle;\n",
       "    }\n",
       "\n",
       "    .dataframe tbody tr th {\n",
       "        vertical-align: top;\n",
       "    }\n",
       "\n",
       "    .dataframe thead th {\n",
       "        text-align: right;\n",
       "    }\n",
       "</style>\n",
       "<table border=\"1\" class=\"dataframe\">\n",
       "  <thead>\n",
       "    <tr style=\"text-align: right;\">\n",
       "      <th></th>\n",
       "      <th>count</th>\n",
       "      <th>mean</th>\n",
       "      <th>std</th>\n",
       "      <th>min</th>\n",
       "      <th>25%</th>\n",
       "      <th>50%</th>\n",
       "      <th>75%</th>\n",
       "      <th>max</th>\n",
       "    </tr>\n",
       "  </thead>\n",
       "  <tbody>\n",
       "    <tr>\n",
       "      <th>total doses distributed</th>\n",
       "      <td>59.0</td>\n",
       "      <td>3.335010e+07</td>\n",
       "      <td>1.277474e+08</td>\n",
       "      <td>52580.0</td>\n",
       "      <td>4104697.5</td>\n",
       "      <td>9702330.0</td>\n",
       "      <td>23053630.0</td>\n",
       "      <td>984444295.0</td>\n",
       "    </tr>\n",
       "    <tr>\n",
       "      <th>doses distributed per 100k pop</th>\n",
       "      <td>59.0</td>\n",
       "      <td>2.916893e+05</td>\n",
       "      <td>4.630548e+04</td>\n",
       "      <td>163045.0</td>\n",
       "      <td>264295.0</td>\n",
       "      <td>286467.0</td>\n",
       "      <td>321751.0</td>\n",
       "      <td>414902.0</td>\n",
       "    </tr>\n",
       "    <tr>\n",
       "      <th>doses distributed by jurisdiction per 100k of 18+ pop</th>\n",
       "      <td>59.0</td>\n",
       "      <td>3.781212e+05</td>\n",
       "      <td>5.240683e+04</td>\n",
       "      <td>212620.0</td>\n",
       "      <td>344657.5</td>\n",
       "      <td>377609.0</td>\n",
       "      <td>415898.0</td>\n",
       "      <td>507651.0</td>\n",
       "    </tr>\n",
       "    <tr>\n",
       "      <th>total doses administered by jurisdiction</th>\n",
       "      <td>59.0</td>\n",
       "      <td>2.286809e+07</td>\n",
       "      <td>8.788561e+07</td>\n",
       "      <td>51971.0</td>\n",
       "      <td>2783226.5</td>\n",
       "      <td>6961453.0</td>\n",
       "      <td>15923529.5</td>\n",
       "      <td>676728782.0</td>\n",
       "    </tr>\n",
       "    <tr>\n",
       "      <th>doses administered by jurisdiction per 100k pop</th>\n",
       "      <td>59.0</td>\n",
       "      <td>2.025454e+05</td>\n",
       "      <td>3.813033e+04</td>\n",
       "      <td>130997.0</td>\n",
       "      <td>171858.0</td>\n",
       "      <td>197590.0</td>\n",
       "      <td>228603.0</td>\n",
       "      <td>302852.0</td>\n",
       "    </tr>\n",
       "  </tbody>\n",
       "</table>\n",
       "</div>"
      ],
      "text/plain": [
       "                                                    count          mean  \\\n",
       "total doses distributed                              59.0  3.335010e+07   \n",
       "doses distributed per 100k pop                       59.0  2.916893e+05   \n",
       "doses distributed by jurisdiction per 100k of 1...   59.0  3.781212e+05   \n",
       "total doses administered by jurisdiction             59.0  2.286809e+07   \n",
       "doses administered by jurisdiction per 100k pop      59.0  2.025454e+05   \n",
       "\n",
       "                                                             std       min  \\\n",
       "total doses distributed                             1.277474e+08   52580.0   \n",
       "doses distributed per 100k pop                      4.630548e+04  163045.0   \n",
       "doses distributed by jurisdiction per 100k of 1...  5.240683e+04  212620.0   \n",
       "total doses administered by jurisdiction            8.788561e+07   51971.0   \n",
       "doses administered by jurisdiction per 100k pop     3.813033e+04  130997.0   \n",
       "\n",
       "                                                          25%        50%  \\\n",
       "total doses distributed                             4104697.5  9702330.0   \n",
       "doses distributed per 100k pop                       264295.0   286467.0   \n",
       "doses distributed by jurisdiction per 100k of 1...   344657.5   377609.0   \n",
       "total doses administered by jurisdiction            2783226.5  6961453.0   \n",
       "doses administered by jurisdiction per 100k pop      171858.0   197590.0   \n",
       "\n",
       "                                                           75%          max  \n",
       "total doses distributed                             23053630.0  984444295.0  \n",
       "doses distributed per 100k pop                        321751.0     414902.0  \n",
       "doses distributed by jurisdiction per 100k of 1...    415898.0     507651.0  \n",
       "total doses administered by jurisdiction            15923529.5  676728782.0  \n",
       "doses administered by jurisdiction per 100k pop       228603.0     302852.0  "
      ]
     },
     "execution_count": 293,
     "metadata": {},
     "output_type": "execute_result"
    }
   ],
   "source": [
    "# getting the statistical summary of dataset\n",
    "df.describe().T"
   ]
  },
  {
   "cell_type": "code",
   "execution_count": 294,
   "id": "dfec273f",
   "metadata": {},
   "outputs": [
    {
     "data": {
      "text/html": [
       "<div>\n",
       "<style scoped>\n",
       "    .dataframe tbody tr th:only-of-type {\n",
       "        vertical-align: middle;\n",
       "    }\n",
       "\n",
       "    .dataframe tbody tr th {\n",
       "        vertical-align: top;\n",
       "    }\n",
       "\n",
       "    .dataframe thead th {\n",
       "        text-align: right;\n",
       "    }\n",
       "</style>\n",
       "<table border=\"1\" class=\"dataframe\">\n",
       "  <thead>\n",
       "    <tr style=\"text-align: right;\">\n",
       "      <th></th>\n",
       "      <th>jurisdiction (state/territory) or federal entity</th>\n",
       "      <th>total doses distributed</th>\n",
       "      <th>doses distributed per 100k pop</th>\n",
       "      <th>doses distributed by jurisdiction per 100k of 18+ pop</th>\n",
       "      <th>total doses administered by jurisdiction</th>\n",
       "      <th>doses administered by jurisdiction per 100k pop</th>\n",
       "      <th>political affiliation</th>\n",
       "      <th>non-incentive covid-19 mitigation policy</th>\n",
       "      <th>lottery</th>\n",
       "      <th>guaranteed</th>\n",
       "    </tr>\n",
       "  </thead>\n",
       "  <tbody>\n",
       "  </tbody>\n",
       "</table>\n",
       "</div>"
      ],
      "text/plain": [
       "Empty DataFrame\n",
       "Columns: [jurisdiction (state/territory) or federal entity, total doses distributed, doses distributed per 100k pop, doses distributed by jurisdiction per 100k of 18+ pop, total doses administered by jurisdiction, doses administered by jurisdiction per 100k pop, political affiliation, non-incentive covid-19 mitigation policy, lottery, guaranteed]\n",
       "Index: []"
      ]
     },
     "execution_count": 294,
     "metadata": {},
     "output_type": "execute_result"
    }
   ],
   "source": [
    "#Checking the values of x equal to zero\n",
    "df.loc[df['lottery']==0]\n"
   ]
  },
  {
   "cell_type": "markdown",
   "id": "563f570b",
   "metadata": {},
   "source": [
    "### Hot encoding and transformations"
   ]
  },
  {
   "cell_type": "code",
   "execution_count": 301,
   "id": "2da948fa",
   "metadata": {},
   "outputs": [
    {
     "data": {
      "text/html": [
       "<div>\n",
       "<style scoped>\n",
       "    .dataframe tbody tr th:only-of-type {\n",
       "        vertical-align: middle;\n",
       "    }\n",
       "\n",
       "    .dataframe tbody tr th {\n",
       "        vertical-align: top;\n",
       "    }\n",
       "\n",
       "    .dataframe thead th {\n",
       "        text-align: right;\n",
       "    }\n",
       "</style>\n",
       "<table border=\"1\" class=\"dataframe\">\n",
       "  <thead>\n",
       "    <tr style=\"text-align: right;\">\n",
       "      <th></th>\n",
       "      <th>guaranteed_2</th>\n",
       "      <th>guaranteed_No</th>\n",
       "      <th>guaranteed_Yes</th>\n",
       "    </tr>\n",
       "  </thead>\n",
       "  <tbody>\n",
       "    <tr>\n",
       "      <th>0</th>\n",
       "      <td>True</td>\n",
       "      <td>False</td>\n",
       "      <td>False</td>\n",
       "    </tr>\n",
       "    <tr>\n",
       "      <th>1</th>\n",
       "      <td>False</td>\n",
       "      <td>True</td>\n",
       "      <td>False</td>\n",
       "    </tr>\n",
       "    <tr>\n",
       "      <th>2</th>\n",
       "      <td>False</td>\n",
       "      <td>True</td>\n",
       "      <td>False</td>\n",
       "    </tr>\n",
       "    <tr>\n",
       "      <th>3</th>\n",
       "      <td>False</td>\n",
       "      <td>True</td>\n",
       "      <td>False</td>\n",
       "    </tr>\n",
       "    <tr>\n",
       "      <th>4</th>\n",
       "      <td>False</td>\n",
       "      <td>True</td>\n",
       "      <td>False</td>\n",
       "    </tr>\n",
       "  </tbody>\n",
       "</table>\n",
       "</div>"
      ],
      "text/plain": [
       "   guaranteed_2  guaranteed_No  guaranteed_Yes\n",
       "0          True          False           False\n",
       "1         False           True           False\n",
       "2         False           True           False\n",
       "3         False           True           False\n",
       "4         False           True           False"
      ]
     },
     "execution_count": 301,
     "metadata": {},
     "output_type": "execute_result"
    }
   ],
   "source": [
    "\n",
    "pd.get_dummies(df['non-incentive covid-19 mitigation policy'], prefix='NonIncentive').head()\n",
    "pd.get_dummies(df['lottery'], prefix='lottery').head()\n",
    "pd.get_dummies(df['guaranteed'], prefix='guaranteed').head()\n"
   ]
  },
  {
   "cell_type": "markdown",
   "id": "c25c2445",
   "metadata": {},
   "source": [
    "### Bivariate EDA"
   ]
  },
  {
   "cell_type": "code",
   "execution_count": 302,
   "id": "98a8fa32",
   "metadata": {},
   "outputs": [],
   "source": [
    "numerical_features = ['total doses distributed','doses distributed by jurisdiction per 100k of 18+ pop',\n",
    "                      'total doses administered by jurisdiction','doses administered by jurisdiction per 100k pop']\n",
    "\n",
    "categorical_features = ['political affiliation','lottery', 'guaranteed', 'jurisdiction (state/territory) or federal entity']"
   ]
  },
  {
   "cell_type": "code",
   "execution_count": 303,
   "id": "1b7012e3",
   "metadata": {},
   "outputs": [],
   "source": [
    "def desc_num_feature(feature_name, bins=30, edgecolor='k', **kwargs):\n",
    "    fig, ax = plt.subplots(figsize=(8,4))\n",
    "    df[feature_name].hist(bins=bins, edgecolor=edgecolor, ax=ax, **kwargs)\n",
    "    ax.set_title(feature_name, size=15)\n",
    "    plt.figtext(1,0.15, str(data[feature_name].describe().round(2).astype(str)), size=17)"
   ]
  },
  {
   "cell_type": "code",
   "execution_count": 304,
   "id": "8a88d657",
   "metadata": {},
   "outputs": [
    {
     "data": {
      "image/png": "[encoded data removed]",
      "text/plain": [
       "<Figure size 800x400 with 1 Axes>"
      ]
     },
     "metadata": {},
     "output_type": "display_data"
    }
   ],
   "source": [
    "desc_num_feature('total doses distributed')"
   ]
  },
  {
   "cell_type": "code",
   "execution_count": 305,
   "id": "94aebe28",
   "metadata": {},
   "outputs": [
    {
     "name": "stdout",
     "output_type": "stream",
     "text": [
      "                       count  percent\n",
      "political affiliation                \n",
      "R                         31     52.5\n",
      "D                         27     45.8\n",
      "2                          1      1.7\n"
     ]
    },
    {
     "data": {
      "image/png": "[encoded data removed]",
      "text/plain": [
       "<Figure size 640x480 with 1 Axes>"
      ]
     },
     "metadata": {},
     "output_type": "display_data"
    }
   ],
   "source": [
    "feature = categorical_features[0]\n",
    "count = data[feature].value_counts()\n",
    "percent = 100*data[feature].value_counts(normalize=True)\n",
    "df = pd.DataFrame({'count':count, 'percent':percent.round(1)})\n",
    "print(df)\n",
    "count.plot(kind='bar', title=feature);"
   ]
  },
  {
   "cell_type": "code",
   "execution_count": 306,
   "id": "e463b63f",
   "metadata": {},
   "outputs": [
    {
     "data": {
      "text/html": [
       "<div>\n",
       "<style scoped>\n",
       "    .dataframe tbody tr th:only-of-type {\n",
       "        vertical-align: middle;\n",
       "    }\n",
       "\n",
       "    .dataframe tbody tr th {\n",
       "        vertical-align: top;\n",
       "    }\n",
       "\n",
       "    .dataframe thead th {\n",
       "        text-align: right;\n",
       "    }\n",
       "</style>\n",
       "<table border=\"1\" class=\"dataframe\">\n",
       "  <thead>\n",
       "    <tr style=\"text-align: right;\">\n",
       "      <th>lottery</th>\n",
       "      <th>2</th>\n",
       "      <th>No</th>\n",
       "      <th>Yes</th>\n",
       "    </tr>\n",
       "    <tr>\n",
       "      <th>jurisdiction (state/territory) or federal entity</th>\n",
       "      <th></th>\n",
       "      <th></th>\n",
       "      <th></th>\n",
       "    </tr>\n",
       "  </thead>\n",
       "  <tbody>\n",
       "    <tr>\n",
       "      <th>Alabama</th>\n",
       "      <td>0</td>\n",
       "      <td>0</td>\n",
       "      <td>1</td>\n",
       "    </tr>\n",
       "    <tr>\n",
       "      <th>Alaska</th>\n",
       "      <td>0</td>\n",
       "      <td>1</td>\n",
       "      <td>0</td>\n",
       "    </tr>\n",
       "    <tr>\n",
       "      <th>American Samoa</th>\n",
       "      <td>0</td>\n",
       "      <td>0</td>\n",
       "      <td>1</td>\n",
       "    </tr>\n",
       "    <tr>\n",
       "      <th>Arizona</th>\n",
       "      <td>0</td>\n",
       "      <td>0</td>\n",
       "      <td>1</td>\n",
       "    </tr>\n",
       "    <tr>\n",
       "      <th>Arkansas</th>\n",
       "      <td>0</td>\n",
       "      <td>1</td>\n",
       "      <td>0</td>\n",
       "    </tr>\n",
       "    <tr>\n",
       "      <th>California</th>\n",
       "      <td>0</td>\n",
       "      <td>1</td>\n",
       "      <td>0</td>\n",
       "    </tr>\n",
       "    <tr>\n",
       "      <th>Colorado</th>\n",
       "      <td>0</td>\n",
       "      <td>0</td>\n",
       "      <td>1</td>\n",
       "    </tr>\n",
       "    <tr>\n",
       "      <th>Connecticut</th>\n",
       "      <td>0</td>\n",
       "      <td>1</td>\n",
       "      <td>0</td>\n",
       "    </tr>\n",
       "    <tr>\n",
       "      <th>Delaware</th>\n",
       "      <td>0</td>\n",
       "      <td>0</td>\n",
       "      <td>1</td>\n",
       "    </tr>\n",
       "    <tr>\n",
       "      <th>District of Columbia</th>\n",
       "      <td>0</td>\n",
       "      <td>1</td>\n",
       "      <td>0</td>\n",
       "    </tr>\n",
       "    <tr>\n",
       "      <th>Federated States of Micronesia</th>\n",
       "      <td>0</td>\n",
       "      <td>0</td>\n",
       "      <td>1</td>\n",
       "    </tr>\n",
       "    <tr>\n",
       "      <th>Florida</th>\n",
       "      <td>0</td>\n",
       "      <td>1</td>\n",
       "      <td>0</td>\n",
       "    </tr>\n",
       "    <tr>\n",
       "      <th>Georgia</th>\n",
       "      <td>0</td>\n",
       "      <td>1</td>\n",
       "      <td>0</td>\n",
       "    </tr>\n",
       "    <tr>\n",
       "      <th>Guam</th>\n",
       "      <td>0</td>\n",
       "      <td>1</td>\n",
       "      <td>0</td>\n",
       "    </tr>\n",
       "    <tr>\n",
       "      <th>Hawaii</th>\n",
       "      <td>0</td>\n",
       "      <td>1</td>\n",
       "      <td>0</td>\n",
       "    </tr>\n",
       "    <tr>\n",
       "      <th>Idaho</th>\n",
       "      <td>0</td>\n",
       "      <td>0</td>\n",
       "      <td>1</td>\n",
       "    </tr>\n",
       "    <tr>\n",
       "      <th>Illinois</th>\n",
       "      <td>0</td>\n",
       "      <td>0</td>\n",
       "      <td>1</td>\n",
       "    </tr>\n",
       "    <tr>\n",
       "      <th>Indiana</th>\n",
       "      <td>0</td>\n",
       "      <td>0</td>\n",
       "      <td>1</td>\n",
       "    </tr>\n",
       "    <tr>\n",
       "      <th>Iowa</th>\n",
       "      <td>0</td>\n",
       "      <td>0</td>\n",
       "      <td>1</td>\n",
       "    </tr>\n",
       "    <tr>\n",
       "      <th>Kansas</th>\n",
       "      <td>0</td>\n",
       "      <td>0</td>\n",
       "      <td>1</td>\n",
       "    </tr>\n",
       "    <tr>\n",
       "      <th>Kentucky</th>\n",
       "      <td>0</td>\n",
       "      <td>1</td>\n",
       "      <td>0</td>\n",
       "    </tr>\n",
       "    <tr>\n",
       "      <th>Louisiana</th>\n",
       "      <td>0</td>\n",
       "      <td>1</td>\n",
       "      <td>0</td>\n",
       "    </tr>\n",
       "    <tr>\n",
       "      <th>Maine</th>\n",
       "      <td>0</td>\n",
       "      <td>1</td>\n",
       "      <td>0</td>\n",
       "    </tr>\n",
       "    <tr>\n",
       "      <th>Marshall Islands</th>\n",
       "      <td>0</td>\n",
       "      <td>0</td>\n",
       "      <td>1</td>\n",
       "    </tr>\n",
       "    <tr>\n",
       "      <th>Maryland</th>\n",
       "      <td>0</td>\n",
       "      <td>1</td>\n",
       "      <td>0</td>\n",
       "    </tr>\n",
       "    <tr>\n",
       "      <th>Massachusetts</th>\n",
       "      <td>0</td>\n",
       "      <td>0</td>\n",
       "      <td>1</td>\n",
       "    </tr>\n",
       "    <tr>\n",
       "      <th>Michigan</th>\n",
       "      <td>0</td>\n",
       "      <td>1</td>\n",
       "      <td>0</td>\n",
       "    </tr>\n",
       "    <tr>\n",
       "      <th>Minnesota</th>\n",
       "      <td>0</td>\n",
       "      <td>1</td>\n",
       "      <td>0</td>\n",
       "    </tr>\n",
       "    <tr>\n",
       "      <th>Mississippi</th>\n",
       "      <td>0</td>\n",
       "      <td>0</td>\n",
       "      <td>1</td>\n",
       "    </tr>\n",
       "    <tr>\n",
       "      <th>Missouri</th>\n",
       "      <td>0</td>\n",
       "      <td>0</td>\n",
       "      <td>1</td>\n",
       "    </tr>\n",
       "    <tr>\n",
       "      <th>Montana</th>\n",
       "      <td>0</td>\n",
       "      <td>1</td>\n",
       "      <td>0</td>\n",
       "    </tr>\n",
       "    <tr>\n",
       "      <th>Nebraska</th>\n",
       "      <td>0</td>\n",
       "      <td>0</td>\n",
       "      <td>1</td>\n",
       "    </tr>\n",
       "    <tr>\n",
       "      <th>Nevada</th>\n",
       "      <td>0</td>\n",
       "      <td>1</td>\n",
       "      <td>0</td>\n",
       "    </tr>\n",
       "    <tr>\n",
       "      <th>New Hampshire</th>\n",
       "      <td>0</td>\n",
       "      <td>1</td>\n",
       "      <td>0</td>\n",
       "    </tr>\n",
       "    <tr>\n",
       "      <th>New Jersey</th>\n",
       "      <td>0</td>\n",
       "      <td>0</td>\n",
       "      <td>1</td>\n",
       "    </tr>\n",
       "    <tr>\n",
       "      <th>New Mexico</th>\n",
       "      <td>0</td>\n",
       "      <td>1</td>\n",
       "      <td>0</td>\n",
       "    </tr>\n",
       "    <tr>\n",
       "      <th>New York State</th>\n",
       "      <td>0</td>\n",
       "      <td>1</td>\n",
       "      <td>0</td>\n",
       "    </tr>\n",
       "    <tr>\n",
       "      <th>North Carolina</th>\n",
       "      <td>0</td>\n",
       "      <td>0</td>\n",
       "      <td>1</td>\n",
       "    </tr>\n",
       "    <tr>\n",
       "      <th>North Dakota</th>\n",
       "      <td>0</td>\n",
       "      <td>1</td>\n",
       "      <td>0</td>\n",
       "    </tr>\n",
       "    <tr>\n",
       "      <th>Ohio</th>\n",
       "      <td>0</td>\n",
       "      <td>1</td>\n",
       "      <td>0</td>\n",
       "    </tr>\n",
       "    <tr>\n",
       "      <th>Oklahoma</th>\n",
       "      <td>0</td>\n",
       "      <td>1</td>\n",
       "      <td>0</td>\n",
       "    </tr>\n",
       "    <tr>\n",
       "      <th>Oregon</th>\n",
       "      <td>0</td>\n",
       "      <td>1</td>\n",
       "      <td>0</td>\n",
       "    </tr>\n",
       "    <tr>\n",
       "      <th>Pennsylvania</th>\n",
       "      <td>0</td>\n",
       "      <td>1</td>\n",
       "      <td>0</td>\n",
       "    </tr>\n",
       "    <tr>\n",
       "      <th>Puerto Rico</th>\n",
       "      <td>0</td>\n",
       "      <td>0</td>\n",
       "      <td>1</td>\n",
       "    </tr>\n",
       "    <tr>\n",
       "      <th>Republic of Palau</th>\n",
       "      <td>0</td>\n",
       "      <td>0</td>\n",
       "      <td>1</td>\n",
       "    </tr>\n",
       "    <tr>\n",
       "      <th>Rhode Island</th>\n",
       "      <td>0</td>\n",
       "      <td>1</td>\n",
       "      <td>0</td>\n",
       "    </tr>\n",
       "    <tr>\n",
       "      <th>South Carolina</th>\n",
       "      <td>0</td>\n",
       "      <td>1</td>\n",
       "      <td>0</td>\n",
       "    </tr>\n",
       "    <tr>\n",
       "      <th>South Dakota</th>\n",
       "      <td>0</td>\n",
       "      <td>1</td>\n",
       "      <td>0</td>\n",
       "    </tr>\n",
       "    <tr>\n",
       "      <th>Tennessee</th>\n",
       "      <td>0</td>\n",
       "      <td>0</td>\n",
       "      <td>1</td>\n",
       "    </tr>\n",
       "    <tr>\n",
       "      <th>Texas</th>\n",
       "      <td>0</td>\n",
       "      <td>0</td>\n",
       "      <td>1</td>\n",
       "    </tr>\n",
       "    <tr>\n",
       "      <th>United States</th>\n",
       "      <td>1</td>\n",
       "      <td>0</td>\n",
       "      <td>0</td>\n",
       "    </tr>\n",
       "    <tr>\n",
       "      <th>Utah</th>\n",
       "      <td>0</td>\n",
       "      <td>1</td>\n",
       "      <td>0</td>\n",
       "    </tr>\n",
       "    <tr>\n",
       "      <th>Vermont</th>\n",
       "      <td>0</td>\n",
       "      <td>1</td>\n",
       "      <td>0</td>\n",
       "    </tr>\n",
       "    <tr>\n",
       "      <th>Virgin Islands</th>\n",
       "      <td>0</td>\n",
       "      <td>0</td>\n",
       "      <td>1</td>\n",
       "    </tr>\n",
       "    <tr>\n",
       "      <th>Virginia</th>\n",
       "      <td>0</td>\n",
       "      <td>0</td>\n",
       "      <td>1</td>\n",
       "    </tr>\n",
       "    <tr>\n",
       "      <th>Washington</th>\n",
       "      <td>0</td>\n",
       "      <td>0</td>\n",
       "      <td>1</td>\n",
       "    </tr>\n",
       "    <tr>\n",
       "      <th>West Virginia</th>\n",
       "      <td>0</td>\n",
       "      <td>0</td>\n",
       "      <td>1</td>\n",
       "    </tr>\n",
       "    <tr>\n",
       "      <th>Wisconsin</th>\n",
       "      <td>0</td>\n",
       "      <td>1</td>\n",
       "      <td>0</td>\n",
       "    </tr>\n",
       "    <tr>\n",
       "      <th>Wyoming</th>\n",
       "      <td>0</td>\n",
       "      <td>0</td>\n",
       "      <td>1</td>\n",
       "    </tr>\n",
       "  </tbody>\n",
       "</table>\n",
       "</div>"
      ],
      "text/plain": [
       "lottery                                           2  No  Yes\n",
       "jurisdiction (state/territory) or federal entity            \n",
       "Alabama                                           0   0    1\n",
       "Alaska                                            0   1    0\n",
       "American Samoa                                    0   0    1\n",
       "Arizona                                           0   0    1\n",
       "Arkansas                                          0   1    0\n",
       "California                                        0   1    0\n",
       "Colorado                                          0   0    1\n",
       "Connecticut                                       0   1    0\n",
       "Delaware                                          0   0    1\n",
       "District of Columbia                              0   1    0\n",
       "Federated States of Micronesia                    0   0    1\n",
       "Florida                                           0   1    0\n",
       "Georgia                                           0   1    0\n",
       "Guam                                              0   1    0\n",
       "Hawaii                                            0   1    0\n",
       "Idaho                                             0   0    1\n",
       "Illinois                                          0   0    1\n",
       "Indiana                                           0   0    1\n",
       "Iowa                                              0   0    1\n",
       "Kansas                                            0   0    1\n",
       "Kentucky                                          0   1    0\n",
       "Louisiana                                         0   1    0\n",
       "Maine                                             0   1    0\n",
       "Marshall Islands                                  0   0    1\n",
       "Maryland                                          0   1    0\n",
       "Massachusetts                                     0   0    1\n",
       "Michigan                                          0   1    0\n",
       "Minnesota                                         0   1    0\n",
       "Mississippi                                       0   0    1\n",
       "Missouri                                          0   0    1\n",
       "Montana                                           0   1    0\n",
       "Nebraska                                          0   0    1\n",
       "Nevada                                            0   1    0\n",
       "New Hampshire                                     0   1    0\n",
       "New Jersey                                        0   0    1\n",
       "New Mexico                                        0   1    0\n",
       "New York State                                    0   1    0\n",
       "North Carolina                                    0   0    1\n",
       "North Dakota                                      0   1    0\n",
       "Ohio                                              0   1    0\n",
       "Oklahoma                                          0   1    0\n",
       "Oregon                                            0   1    0\n",
       "Pennsylvania                                      0   1    0\n",
       "Puerto Rico                                       0   0    1\n",
       "Republic of Palau                                 0   0    1\n",
       "Rhode Island                                      0   1    0\n",
       "South Carolina                                    0   1    0\n",
       "South Dakota                                      0   1    0\n",
       "Tennessee                                         0   0    1\n",
       "Texas                                             0   0    1\n",
       "United States                                     1   0    0\n",
       "Utah                                              0   1    0\n",
       "Vermont                                           0   1    0\n",
       "Virgin Islands                                    0   0    1\n",
       "Virginia                                          0   0    1\n",
       "Washington                                        0   0    1\n",
       "West Virginia                                     0   0    1\n",
       "Wisconsin                                         0   1    0\n",
       "Wyoming                                           0   0    1"
      ]
     },
     "execution_count": 306,
     "metadata": {},
     "output_type": "execute_result"
    }
   ],
   "source": [
    "pd.crosstab(data['jurisdiction (state/territory) or federal entity'], data['lottery'])  "
   ]
  },
  {
   "cell_type": "code",
   "execution_count": 307,
   "id": "6e3ec246",
   "metadata": {},
   "outputs": [
    {
     "data": {
      "image/png": "[encoded data removed]",
      "text/plain": [
       "<Figure size 640x480 with 1 Axes>"
      ]
     },
     "metadata": {},
     "output_type": "display_data"
    }
   ],
   "source": [
    "basic_ct = pd.crosstab(data['jurisdiction (state/territory) or federal entity'], data['lottery'])\n",
    "basic_ct.plot(kind='barh');"
   ]
  },
  {
   "cell_type": "markdown",
   "id": "0a98ea97",
   "metadata": {},
   "source": [
    "### Feature Engineering"
   ]
  },
  {
   "cell_type": "code",
   "execution_count": 308,
   "id": "df88e2d0",
   "metadata": {},
   "outputs": [],
   "source": [
    "#Normalizing the data to eliminate redundant data, \n",
    "#minimize data modification errors, and simplify the query process.\n",
    "from sklearn import preprocessing"
   ]
  },
  {
   "cell_type": "code",
   "execution_count": 309,
   "id": "65c11b27",
   "metadata": {},
   "outputs": [
    {
     "name": "stdout",
     "output_type": "stream",
     "text": [
      "doses array:  [984444295   2176065  12349530   8373210    128480  19959120 121107865\n",
      "  17769135  11881825   2761525   3352025  61526685    291840  28727475\n",
      "    387180   4677910   9429185   4751720  38328915  18989660   8356725\n",
      "  12200975  10282120  23747420  22359840   4981040    162240  29638290\n",
      "  18519240  15654225   7252325   2714785  30278310   1910860   5481710\n",
      "   5121800  29637655   6176205   7722770  61302975  31703485   9702330\n",
      "  14222125  42895735   8842720     52580   3531485  14205395   2713025\n",
      "  17172490  80813315   8421900  26823665    173300   2588940  25606455\n",
      "  16474175   5515855   1281755]\n"
     ]
    }
   ],
   "source": [
    "doses_array = np.array(data['total doses distributed'])\n",
    "print(\"doses array: \",doses_array)"
   ]
  },
  {
   "cell_type": "code",
   "execution_count": 313,
   "id": "1920c3cd",
   "metadata": {},
   "outputs": [],
   "source": [
    "doses_array = np.array(data['total doses distributed'])"
   ]
  },
  {
   "cell_type": "code",
   "execution_count": 311,
   "id": "a49fd936",
   "metadata": {},
   "outputs": [
    {
     "name": "stdout",
     "output_type": "stream",
     "text": [
      "Normalized doses array:  [[9.78519085e-01 2.16296762e-03 1.22752002e-02 8.32281301e-03\n",
      "  1.27706700e-04 1.98389893e-02 1.20378936e-01 1.76621855e-02\n",
      "  1.18103102e-02 2.74490383e-03 3.33184971e-03 6.11563659e-02\n",
      "  2.90083462e-04 2.85545690e-02 3.84849626e-04 4.64975442e-03\n",
      "  9.37243227e-03 4.72312017e-03 3.80982195e-02 1.88753643e-02\n",
      "  8.30642723e-03 1.21275393e-02 1.02202336e-02 2.36044881e-02\n",
      "  2.22252598e-02 4.95105993e-03 1.61263504e-04 2.94599019e-02\n",
      "  1.84077757e-02 1.55600048e-02 7.20867443e-03 2.69844515e-03\n",
      "  3.00960698e-02 1.89935884e-03 5.44871648e-03 5.09097272e-03\n",
      "  2.94592708e-02 6.13903142e-03 7.67628790e-03 6.09340023e-02\n",
      "  3.15126669e-02 9.64393325e-03 1.41365243e-02 4.26375525e-02\n",
      "  8.78949710e-03 5.22635295e-05 3.51022957e-03 1.41198950e-02\n",
      "  2.69669574e-03 1.70691316e-02 8.03269128e-02 8.37120995e-03\n",
      "  2.66622177e-02 1.72256935e-04 2.57335759e-03 2.54523339e-02\n",
      "  1.63750196e-02 5.48265596e-03 1.27404032e-03]]\n"
     ]
    }
   ],
   "source": [
    "\n",
    "normalized_arr = preprocessing.normalize([doses_array])\n",
    "print(\"Normalized doses array: \",normalized_arr)"
   ]
  },
  {
   "cell_type": "code",
   "execution_count": 216,
   "id": "12ca9d7b",
   "metadata": {},
   "outputs": [
    {
     "name": "stdout",
     "output_type": "stream",
     "text": [
      "Normalized doses by juridiction array:  [[9.77957213e-01 1.91944445e-03 1.01418983e-02 7.04366738e-03\n",
      "  1.66595375e-04 2.11673210e-02 1.27875946e-01 1.88349496e-02\n",
      "  1.30653530e-02 3.08877546e-03 3.13465526e-03 6.10816024e-02\n",
      "  3.02356133e-04 2.47474517e-02 5.78227473e-04 5.10180472e-03\n",
      "  8.86018286e-03 4.18271144e-03 3.88150880e-02 1.61869631e-02\n",
      "  7.78621705e-03 1.08530815e-02 1.00601649e-02 2.62719957e-02\n",
      "  2.12755074e-02 5.11913031e-03 1.47168569e-04 2.71237058e-02\n",
      "  1.85397035e-02 1.51868460e-02 6.22507094e-03 2.70279865e-03\n",
      "  2.80853319e-02 1.89957110e-03 5.52353968e-03 4.31098211e-03\n",
      "  2.86511285e-02 6.86526245e-03 8.07923045e-03 6.52871207e-02\n",
      "  3.04990176e-02 9.78849314e-03 1.35829763e-02 3.98658234e-02\n",
      "  1.13395494e-02 7.51045554e-05 3.86150510e-03 1.25243187e-02\n",
      "  2.44078750e-03 1.63636035e-02 7.58836624e-02 8.90030673e-03\n",
      "  2.83362460e-02 2.24510177e-04 2.54712264e-03 2.56126318e-02\n",
      "  1.79831500e-02 4.47782027e-03 1.23432692e-03]]\n"
     ]
    }
   ],
   "source": [
    "doses_by_juridiction_array = np.array(data['total doses administered by jurisdiction'])\n",
    "normalized_arr = preprocessing.normalize([doses_by_juridiction_array])\n",
    "print(\"Normalized doses by juridiction array: \",normalized_arr)"
   ]
  },
  {
   "cell_type": "code",
   "execution_count": 314,
   "id": "256df109",
   "metadata": {},
   "outputs": [
    {
     "data": {
      "text/plain": [
       "0      NaN\n",
       "1     High\n",
       "2      NaN\n",
       "3      NaN\n",
       "4      Low\n",
       "5      NaN\n",
       "6      NaN\n",
       "7      NaN\n",
       "8      NaN\n",
       "9     High\n",
       "10     NaN\n",
       "11     NaN\n",
       "12     Low\n",
       "13     NaN\n",
       "14     Low\n",
       "15     NaN\n",
       "16     NaN\n",
       "17     NaN\n",
       "18     NaN\n",
       "19     NaN\n",
       "20     NaN\n",
       "21     NaN\n",
       "22     NaN\n",
       "23     NaN\n",
       "24     NaN\n",
       "25     NaN\n",
       "26     Low\n",
       "27     NaN\n",
       "28     NaN\n",
       "29     NaN\n",
       "30     NaN\n",
       "31    High\n",
       "32     NaN\n",
       "33     Mid\n",
       "34     NaN\n",
       "35     NaN\n",
       "36     NaN\n",
       "37     NaN\n",
       "38     NaN\n",
       "39     NaN\n",
       "40     NaN\n",
       "41     NaN\n",
       "42     NaN\n",
       "43     NaN\n",
       "44     NaN\n",
       "45     Low\n",
       "46     NaN\n",
       "47     NaN\n",
       "48    High\n",
       "49     NaN\n",
       "50     NaN\n",
       "51     NaN\n",
       "52     NaN\n",
       "53     Low\n",
       "54    High\n",
       "55     NaN\n",
       "56     NaN\n",
       "57     NaN\n",
       "58     Mid\n",
       "Name: total_doses_bin, dtype: category\n",
       "Categories (3, object): ['Low' < 'Mid' < 'High']"
      ]
     },
     "execution_count": 314,
     "metadata": {},
     "output_type": "execute_result"
    }
   ],
   "source": [
    "#Binning numerical data to make it categorical \n",
    "#grouping multiple values into a single category.\n",
    "\n",
    "# Bin the Efficiency column into 3 equal-sized bins\n",
    "data['total_doses_bin'] = pd.cut(data['total doses distributed'], bins=[0,1000000,2000000,3000000], labels=[\"Low\", \"Mid\", \"High\"])\n",
    "data['total_doses_bin']"
   ]
  },
  {
   "cell_type": "markdown",
   "id": "764afca9",
   "metadata": {},
   "source": [
    "### Splitting the dataset"
   ]
  },
  {
   "cell_type": "code",
   "execution_count": 319,
   "id": "4efad0aa",
   "metadata": {},
   "outputs": [],
   "source": [
    "#encoding categorical fetaure\n",
    "data['total_doses_bin'] = (data['total doses distributed'] == 1).astype('int')"
   ]
  },
  {
   "cell_type": "code",
   "execution_count": 320,
   "id": "c6eccfe6",
   "metadata": {},
   "outputs": [],
   "source": [
    "numerical_features = ['total doses distributed','total doses administered by jurisdiction']\n",
    "binary_features = ['total_doses_bin']\n",
    "X = data[numerical_features + binary_features]\n",
    "y = data['total doses distributed']"
   ]
  },
  {
   "cell_type": "code",
   "execution_count": 321,
   "id": "25d12a51",
   "metadata": {},
   "outputs": [],
   "source": [
    "from sklearn.model_selection import train_test_split\n",
    "X_train, X_test, y_train, y_test = train_test_split(X, y, test_size=5/30, random_state=49)\n"
   ]
  },
  {
   "cell_type": "code",
   "execution_count": 322,
   "id": "c0bc87fc",
   "metadata": {},
   "outputs": [],
   "source": [
    "#Import the class you to use\n",
    "from sklearn.preprocessing import StandardScaler\n",
    "\n",
    "#Create an instance of the class\n",
    "scaler = StandardScaler()\n",
    "\n",
    "#Use the fit method of the instance\n",
    "scaler.fit(X_train[numerical_features])\n",
    "\n",
    "#Use the transform method to perform the transformation\n",
    "X_train.loc[:, numerical_features] = scaler.transform(X_train[numerical_features])\n"
   ]
  },
  {
   "cell_type": "markdown",
   "id": "dcf2bb00",
   "metadata": {},
   "source": [
    "### complete Logistic Regression model"
   ]
  },
  {
   "cell_type": "code",
   "execution_count": 323,
   "id": "f28d8d56",
   "metadata": {},
   "outputs": [
    {
     "name": "stderr",
     "output_type": "stream",
     "text": [
      "/Users/maduffaut/anaconda3/lib/python3.11/site-packages/sklearn/linear_model/_logistic.py:460: ConvergenceWarning: lbfgs failed to converge (status=1):\n",
      "STOP: TOTAL NO. of ITERATIONS REACHED LIMIT.\n",
      "\n",
      "Increase the number of iterations (max_iter) or scale the data as shown in:\n",
      "    https://scikit-learn.org/stable/modules/preprocessing.html\n",
      "Please also refer to the documentation for alternative solver options:\n",
      "    https://scikit-learn.org/stable/modules/linear_model.html#logistic-regression\n",
      "  n_iter_i = _check_optimize_result(\n"
     ]
    },
    {
     "data": {
      "text/html": [
       "<style>#sk-container-id-17 {color: black;}#sk-container-id-17 pre{padding: 0;}#sk-container-id-17 div.sk-toggleable {background-color: white;}#sk-container-id-17 label.sk-toggleable__label {cursor: pointer;display: block;width: 100%;margin-bottom: 0;padding: 0.3em;box-sizing: border-box;text-align: center;}#sk-container-id-17 label.sk-toggleable__label-arrow:before {content: \"▸\";float: left;margin-right: 0.25em;color: #696969;}#sk-container-id-17 label.sk-toggleable__label-arrow:hover:before {color: black;}#sk-container-id-17 div.sk-estimator:hover label.sk-toggleable__label-arrow:before {color: black;}#sk-container-id-17 div.sk-toggleable__content {max-height: 0;max-width: 0;overflow: hidden;text-align: left;background-color: #f0f8ff;}#sk-container-id-17 div.sk-toggleable__content pre {margin: 0.2em;color: black;border-radius: 0.25em;background-color: #f0f8ff;}#sk-container-id-17 input.sk-toggleable__control:checked~div.sk-toggleable__content {max-height: 200px;max-width: 100%;overflow: auto;}#sk-container-id-17 input.sk-toggleable__control:checked~label.sk-toggleable__label-arrow:before {content: \"▾\";}#sk-container-id-17 div.sk-estimator input.sk-toggleable__control:checked~label.sk-toggleable__label {background-color: #d4ebff;}#sk-container-id-17 div.sk-label input.sk-toggleable__control:checked~label.sk-toggleable__label {background-color: #d4ebff;}#sk-container-id-17 input.sk-hidden--visually {border: 0;clip: rect(1px 1px 1px 1px);clip: rect(1px, 1px, 1px, 1px);height: 1px;margin: -1px;overflow: hidden;padding: 0;position: absolute;width: 1px;}#sk-container-id-17 div.sk-estimator {font-family: monospace;background-color: #f0f8ff;border: 1px dotted black;border-radius: 0.25em;box-sizing: border-box;margin-bottom: 0.5em;}#sk-container-id-17 div.sk-estimator:hover {background-color: #d4ebff;}#sk-container-id-17 div.sk-parallel-item::after {content: \"\";width: 100%;border-bottom: 1px solid gray;flex-grow: 1;}#sk-container-id-17 div.sk-label:hover label.sk-toggleable__label {background-color: #d4ebff;}#sk-container-id-17 div.sk-serial::before {content: \"\";position: absolute;border-left: 1px solid gray;box-sizing: border-box;top: 0;bottom: 0;left: 50%;z-index: 0;}#sk-container-id-17 div.sk-serial {display: flex;flex-direction: column;align-items: center;background-color: white;padding-right: 0.2em;padding-left: 0.2em;position: relative;}#sk-container-id-17 div.sk-item {position: relative;z-index: 1;}#sk-container-id-17 div.sk-parallel {display: flex;align-items: stretch;justify-content: center;background-color: white;position: relative;}#sk-container-id-17 div.sk-item::before, #sk-container-id-17 div.sk-parallel-item::before {content: \"\";position: absolute;border-left: 1px solid gray;box-sizing: border-box;top: 0;bottom: 0;left: 50%;z-index: -1;}#sk-container-id-17 div.sk-parallel-item {display: flex;flex-direction: column;z-index: 1;position: relative;background-color: white;}#sk-container-id-17 div.sk-parallel-item:first-child::after {align-self: flex-end;width: 50%;}#sk-container-id-17 div.sk-parallel-item:last-child::after {align-self: flex-start;width: 50%;}#sk-container-id-17 div.sk-parallel-item:only-child::after {width: 0;}#sk-container-id-17 div.sk-dashed-wrapped {border: 1px dashed gray;margin: 0 0.4em 0.5em 0.4em;box-sizing: border-box;padding-bottom: 0.4em;background-color: white;}#sk-container-id-17 div.sk-label label {font-family: monospace;font-weight: bold;display: inline-block;line-height: 1.2em;}#sk-container-id-17 div.sk-label-container {text-align: center;}#sk-container-id-17 div.sk-container {/* jupyter's `normalize.less` sets `[hidden] { display: none; }` but bootstrap.min.css set `[hidden] { display: none !important; }` so we also need the `!important` here to be able to override the default hidden behavior on the sphinx rendered scikit-learn.org. See: https://github.com/scikit-learn/scikit-learn/issues/21755 */display: inline-block !important;position: relative;}#sk-container-id-17 div.sk-text-repr-fallback {display: none;}</style><div id=\"sk-container-id-17\" class=\"sk-top-container\"><div class=\"sk-text-repr-fallback\"><pre>LogisticRegression(C=1000000.0)</pre><b>In a Jupyter environment, please rerun this cell to show the HTML representation or trust the notebook. <br />On GitHub, the HTML representation is unable to render, please try loading this page with nbviewer.org.</b></div><div class=\"sk-container\" hidden><div class=\"sk-item\"><div class=\"sk-estimator sk-toggleable\"><input class=\"sk-toggleable__control sk-hidden--visually\" id=\"sk-estimator-id-17\" type=\"checkbox\" checked><label for=\"sk-estimator-id-17\" class=\"sk-toggleable__label sk-toggleable__label-arrow\">LogisticRegression</label><div class=\"sk-toggleable__content\"><pre>LogisticRegression(C=1000000.0)</pre></div></div></div></div></div>"
      ],
      "text/plain": [
       "LogisticRegression(C=1000000.0)"
      ]
     },
     "execution_count": 323,
     "metadata": {},
     "output_type": "execute_result"
    }
   ],
   "source": [
    "#model training using all selected features\n",
    "from sklearn.linear_model import LogisticRegression\n",
    "\n",
    "log_reg = LogisticRegression(C=1e6)\n",
    "log_reg.fit(X_train, y_train)"
   ]
  },
  {
   "cell_type": "code",
   "execution_count": 324,
   "id": "3de5157c",
   "metadata": {},
   "outputs": [
    {
     "data": {
      "text/plain": [
       "array([[1.26289889e-001, 1.34500893e-001, 1.33959846e-001,\n",
       "        1.39998238e-001, 1.35131625e-001, 1.34652842e-001,\n",
       "        8.30147256e-002, 3.92302589e-002, 3.08314873e-002,\n",
       "        1.43874819e-002, 1.35646574e-002, 8.14853263e-003,\n",
       "        4.02372781e-003, 1.74378190e-003, 1.53756786e-004,\n",
       "        1.13603735e-004, 1.52084182e-004, 8.38297073e-005,\n",
       "        1.62708289e-005, 1.39121187e-006, 9.74012946e-007,\n",
       "        9.64054574e-008, 5.64282577e-009, 3.57978846e-011,\n",
       "        2.66308896e-012, 2.54345265e-016, 7.71247781e-014,\n",
       "        1.27419419e-018, 1.07720757e-017, 7.83336394e-021,\n",
       "        8.63094570e-024, 1.29444820e-032, 1.80067914e-035,\n",
       "        5.78028631e-029, 6.63605616e-046, 9.96956066e-040,\n",
       "        4.86004658e-056, 6.67648521e-065, 2.44139219e-048,\n",
       "        4.10672513e-083, 3.93929403e-069, 3.71981383e-085,\n",
       "        6.48286568e-117, 7.38270452e-123, 1.57245584e-260,\n",
       "        2.16148580e-208, 0.00000000e+000, 0.00000000e+000,\n",
       "        0.00000000e+000],\n",
       "       [8.61456546e-046, 2.29246601e-044, 3.44161390e-044,\n",
       "        1.58249282e-043, 5.86119426e-042, 1.72924846e-039,\n",
       "        9.85880092e-032, 7.22889520e-028, 7.74627238e-027,\n",
       "        2.47258007e-024, 4.66829333e-024, 5.43876011e-023,\n",
       "        5.35938229e-021, 1.15789064e-019, 3.63410458e-016,\n",
       "        1.69142939e-015, 2.82346013e-015, 1.69768926e-014,\n",
       "        3.80307094e-014, 5.05187788e-012, 1.29548365e-010,\n",
       "        1.06506131e-010, 2.09274887e-008, 5.91991157e-007,\n",
       "        8.12056610e-006, 6.22627066e-005, 3.77084677e-004,\n",
       "        3.54472198e-002, 6.19049820e-003, 6.61799857e-004,\n",
       "        9.90235750e-002, 2.87616294e-003, 2.94268878e-002,\n",
       "        7.72273432e-001, 5.68245571e-005, 5.12261014e-002,\n",
       "        3.24151182e-007, 1.00449754e-011, 2.36909358e-003,\n",
       "        2.19509850e-017, 4.68007522e-011, 1.79218988e-017,\n",
       "        2.17018703e-031, 1.59519146e-034, 3.89975795e-123,\n",
       "        3.65804442e-083, 1.13065048e-170, 0.00000000e+000,\n",
       "        0.00000000e+000],\n",
       "       [1.37937993e-016, 7.59658092e-016, 8.94579048e-016,\n",
       "        2.08362585e-015, 1.23874031e-014, 2.53596390e-013,\n",
       "        1.43705672e-009, 9.37692429e-008, 2.30801460e-007,\n",
       "        3.48707911e-006, 3.93680534e-006, 1.66868485e-005,\n",
       "        8.11320152e-005, 3.83573078e-004, 7.33673096e-003,\n",
       "        1.12582456e-002, 8.68115954e-003, 1.37921285e-002,\n",
       "        3.00786396e-002, 8.62948183e-002, 1.21032509e-001,\n",
       "        1.21487151e-001, 2.19792911e-001, 1.59116339e-001,\n",
       "        1.40692099e-001, 9.48226696e-003, 5.88094137e-002,\n",
       "        3.61511340e-003, 7.83591446e-003, 1.80002424e-004,\n",
       "        2.53399313e-005, 4.18813280e-010, 2.88348100e-011,\n",
       "        7.56534584e-008, 1.76436599e-017, 1.94456151e-013,\n",
       "        8.64492507e-024, 4.01842863e-030, 1.18188221e-018,\n",
       "        2.41309657e-042, 1.37972137e-032, 1.06883529e-043,\n",
       "        3.33186196e-066, 1.11561235e-070, 3.19370028e-183,\n",
       "        1.03310536e-137, 1.60725680e-240, 0.00000000e+000,\n",
       "        0.00000000e+000],\n",
       "       [0.00000000e+000, 0.00000000e+000, 0.00000000e+000,\n",
       "        0.00000000e+000, 0.00000000e+000, 0.00000000e+000,\n",
       "        0.00000000e+000, 0.00000000e+000, 0.00000000e+000,\n",
       "        0.00000000e+000, 0.00000000e+000, 0.00000000e+000,\n",
       "        0.00000000e+000, 0.00000000e+000, 0.00000000e+000,\n",
       "        0.00000000e+000, 0.00000000e+000, 0.00000000e+000,\n",
       "        0.00000000e+000, 0.00000000e+000, 0.00000000e+000,\n",
       "        0.00000000e+000, 0.00000000e+000, 0.00000000e+000,\n",
       "        0.00000000e+000, 0.00000000e+000, 0.00000000e+000,\n",
       "        0.00000000e+000, 0.00000000e+000, 0.00000000e+000,\n",
       "        0.00000000e+000, 0.00000000e+000, 0.00000000e+000,\n",
       "        0.00000000e+000, 0.00000000e+000, 0.00000000e+000,\n",
       "        0.00000000e+000, 0.00000000e+000, 0.00000000e+000,\n",
       "        0.00000000e+000, 0.00000000e+000, 0.00000000e+000,\n",
       "        0.00000000e+000, 0.00000000e+000, 0.00000000e+000,\n",
       "        0.00000000e+000, 0.00000000e+000, 0.00000000e+000,\n",
       "        1.00000000e+000],\n",
       "       [8.69848603e-044, 2.33199111e-042, 2.76776550e-042,\n",
       "        1.64485684e-041, 4.79416169e-040, 2.77162259e-037,\n",
       "        4.31678784e-030, 3.26110374e-026, 1.19358079e-025,\n",
       "        8.72204756e-023, 6.19139433e-023, 8.62030565e-021,\n",
       "        8.26362948e-020, 1.64859610e-017, 6.24577736e-014,\n",
       "        9.03100585e-014, 3.60490704e-015, 8.80068178e-015,\n",
       "        1.42600473e-011, 5.04482000e-010, 2.10913703e-011,\n",
       "        1.81020636e-008, 6.55676950e-008, 2.33707329e-005,\n",
       "        1.12696016e-004, 7.67216889e-002, 1.11082013e-005,\n",
       "        5.24397505e-003, 2.95442329e-002, 5.17046627e-001,\n",
       "        1.02530834e-001, 1.99533148e-001, 5.59852289e-002,\n",
       "        2.51071562e-003, 4.17897392e-003, 6.55051410e-003,\n",
       "        1.78702089e-006, 3.00764069e-009, 5.01234242e-006,\n",
       "        3.14627789e-017, 1.05745943e-012, 4.77515547e-019,\n",
       "        4.08019208e-032, 4.71748292e-035, 4.30856864e-123,\n",
       "        1.71258933e-085, 4.12786216e-174, 0.00000000e+000,\n",
       "        0.00000000e+000],\n",
       "       [3.59960252e-013, 1.48616699e-012, 1.78451096e-012,\n",
       "        3.42718210e-012, 1.55937465e-011, 1.63926425e-010,\n",
       "        2.47429533e-007, 6.79351621e-006, 1.71172856e-005,\n",
       "        1.18781523e-004, 1.59140623e-004, 2.86977038e-004,\n",
       "        1.51720020e-003, 2.98352632e-003, 2.14770629e-002,\n",
       "        3.69613292e-002, 6.79961393e-002, 1.08252639e-001,\n",
       "        3.95874864e-002, 8.09464016e-002, 3.80122453e-001,\n",
       "        6.03673704e-002, 1.37293672e-001, 2.57395360e-002,\n",
       "        1.83529722e-002, 1.55577010e-004, 1.72335740e-002,\n",
       "        1.80766553e-004, 2.41924646e-004, 1.05857851e-006,\n",
       "        2.52313451e-007, 3.44276358e-013, 2.52799812e-014,\n",
       "        8.57839654e-010, 1.33239887e-021, 1.29061040e-016,\n",
       "        2.40252607e-028, 1.76787825e-035, 4.69284462e-022,\n",
       "        2.89645765e-048, 2.13424787e-037, 2.22063994e-049,\n",
       "        1.12394104e-073, 1.89986453e-078, 1.71504820e-195,\n",
       "        2.46426446e-148, 1.27317888e-253, 0.00000000e+000,\n",
       "        0.00000000e+000],\n",
       "       [6.34144989e-023, 5.07046542e-022, 6.71961958e-022,\n",
       "        1.72266596e-021, 1.68300662e-020, 5.46853433e-019,\n",
       "        3.87360774e-014, 7.71277792e-012, 3.54953843e-011,\n",
       "        8.95752677e-010, 1.46925563e-009, 4.18900514e-009,\n",
       "        7.58021775e-008, 2.90674027e-007, 1.78245115e-005,\n",
       "        4.80843671e-005, 1.16219216e-004, 3.19422328e-004,\n",
       "        1.29264271e-004, 1.29715989e-003, 1.88816891e-002,\n",
       "        3.03277521e-003, 4.66694581e-002, 4.21551897e-002,\n",
       "        9.35977541e-002, 6.14704371e-003, 5.82851156e-001,\n",
       "        1.35458260e-001, 6.60891481e-002, 5.91029525e-004,\n",
       "        2.39393422e-003, 7.94892684e-008, 4.52906563e-008,\n",
       "        2.04087399e-004, 7.37044022e-014, 2.28973146e-009,\n",
       "        6.51458289e-019, 2.94813604e-025, 3.34446415e-013,\n",
       "        2.53885945e-035, 6.44328178e-026, 6.25905809e-036,\n",
       "        1.30527286e-056, 8.11223144e-061, 8.16630764e-168,\n",
       "        5.17466916e-123, 6.75565518e-222, 0.00000000e+000,\n",
       "        0.00000000e+000],\n",
       "       [2.30273650e-004, 4.12808004e-004, 4.37551478e-004,\n",
       "        5.83736673e-004, 1.01215417e-003, 2.56220640e-003,\n",
       "        3.00058958e-002, 6.75758486e-002, 7.95236357e-002,\n",
       "        1.08244974e-001, 1.12238592e-001, 1.13777176e-001,\n",
       "        1.27015488e-001, 1.07724879e-001, 5.19179766e-002,\n",
       "        5.06101839e-002, 6.57523303e-002, 5.25055571e-002,\n",
       "        1.69958537e-002, 4.66060250e-003, 5.21836416e-003,\n",
       "        8.22037877e-004, 1.66773649e-004, 4.30661774e-006,\n",
       "        7.31440844e-007, 4.69728362e-010, 6.27201081e-008,\n",
       "        1.31967319e-011, 6.33168704e-011, 1.12901610e-013,\n",
       "        7.48991314e-016, 1.82540964e-023, 1.00620585e-025,\n",
       "        4.34092483e-020, 7.01033388e-035, 2.83665953e-029,\n",
       "        9.27223950e-044, 6.91493406e-052, 9.71413468e-037,\n",
       "        4.15026550e-068, 2.13965485e-055, 7.25901782e-070,\n",
       "        1.00718407e-098, 3.29257037e-104, 6.19119071e-234,\n",
       "        8.32282434e-184, 3.55707554e-297, 0.00000000e+000,\n",
       "        0.00000000e+000],\n",
       "       [1.55841594e-099, 3.28349453e-097, 5.68673662e-097,\n",
       "        7.71674103e-096, 2.62570553e-093, 4.21463748e-089,\n",
       "        1.59924057e-076, 5.82234328e-070, 1.92395678e-068,\n",
       "        6.19263766e-064, 1.10594377e-063, 3.07920913e-061,\n",
       "        2.75122580e-058, 2.28123859e-055, 6.56884743e-049,\n",
       "        5.47174786e-048, 1.55375545e-048, 2.72792816e-047,\n",
       "        8.56780185e-045, 6.45219983e-041, 6.22034089e-040,\n",
       "        7.00635928e-038, 3.25701910e-034, 7.41347270e-030,\n",
       "        1.69284495e-027, 1.81530462e-022, 3.82409106e-025,\n",
       "        1.77687669e-018, 1.52609749e-019, 5.46849060e-018,\n",
       "        5.39831772e-014, 6.41540885e-010, 3.14862606e-007,\n",
       "        1.71587491e-010, 3.55466502e-004, 1.05730024e-004,\n",
       "        6.23155585e-002, 9.29655918e-003, 2.79111435e-002,\n",
       "        1.48946853e-001, 4.64721997e-001, 2.83561143e-001,\n",
       "        2.63026334e-003, 1.54970695e-004, 2.26116292e-061,\n",
       "        2.01183040e-030, 1.01766305e-098, 9.05617968e-244,\n",
       "        0.00000000e+000],\n",
       "       [2.17970568e-019, 1.46975938e-018, 1.72485928e-018,\n",
       "        4.55044931e-018, 3.29985986e-017, 1.04862093e-015,\n",
       "        1.59540596e-011, 1.91189233e-009, 4.85123216e-009,\n",
       "        1.22230660e-007, 1.27667557e-007, 8.86125857e-007,\n",
       "        4.49655822e-006, 3.57691760e-005, 1.34981741e-003,\n",
       "        2.01072277e-003, 9.89616477e-004, 1.63294613e-003,\n",
       "        9.38787378e-003, 3.62147125e-002, 2.87169584e-002,\n",
       "        7.79012505e-002, 1.42822765e-001, 2.39551659e-001,\n",
       "        2.57950200e-001, 6.14896609e-002, 7.98030335e-002,\n",
       "        1.58686113e-002, 4.14982559e-002, 2.45125951e-003,\n",
       "        3.18107017e-004, 2.53178364e-008, 1.94897393e-009,\n",
       "        1.11461240e-006, 5.70911736e-015, 1.79870928e-011,\n",
       "        6.32959141e-021, 9.04298616e-027, 1.87704961e-016,\n",
       "        1.71030892e-038, 1.93943956e-029, 6.12721530e-040,\n",
       "        3.18695325e-061, 1.69247920e-065, 6.73088720e-175,\n",
       "        1.91431656e-130, 1.84813188e-231, 0.00000000e+000,\n",
       "        0.00000000e+000],\n",
       "       [0.00000000e+000, 0.00000000e+000, 0.00000000e+000,\n",
       "        0.00000000e+000, 0.00000000e+000, 0.00000000e+000,\n",
       "        0.00000000e+000, 0.00000000e+000, 0.00000000e+000,\n",
       "        1.04522553e-315, 1.20260205e-315, 1.09405218e-308,\n",
       "        4.37390494e-303, 4.70246629e-295, 1.65485004e-279,\n",
       "        5.92842487e-278, 2.66527226e-281, 9.68801275e-279,\n",
       "        6.91030234e-269, 8.37997844e-260, 6.90699981e-261,\n",
       "        1.82148806e-251, 4.50667445e-244, 1.60130754e-230,\n",
       "        1.49569428e-224, 2.66999487e-206, 7.84206902e-221,\n",
       "        1.30855561e-199, 3.33686860e-201, 2.59553440e-191,\n",
       "        1.52221793e-182, 8.53493018e-161, 2.16268316e-153,\n",
       "        9.58123751e-172, 2.95016304e-132, 3.39156976e-144,\n",
       "        1.36221467e-116, 1.13069761e-105, 9.01280622e-131,\n",
       "        4.20951023e-084, 5.88366860e-102, 3.56442495e-083,\n",
       "        1.30374754e-048, 5.82219381e-044, 2.04664587e-003,\n",
       "        9.97953354e-001, 1.53622390e-010, 5.83836567e-101,\n",
       "        1.62614924e-314],\n",
       "       [0.00000000e+000, 0.00000000e+000, 0.00000000e+000,\n",
       "        0.00000000e+000, 0.00000000e+000, 0.00000000e+000,\n",
       "        0.00000000e+000, 0.00000000e+000, 0.00000000e+000,\n",
       "        0.00000000e+000, 0.00000000e+000, 0.00000000e+000,\n",
       "        7.33687484e-321, 1.66052687e-311, 3.13282511e-295,\n",
       "        3.90059464e-294, 2.71727247e-299, 5.00908179e-297,\n",
       "        8.26166704e-284, 6.33249150e-275, 6.33622390e-279,\n",
       "        5.57442909e-266, 4.82030674e-260, 9.59571301e-245,\n",
       "        5.74330456e-239, 7.73671589e-218, 8.34937639e-238,\n",
       "        7.55216978e-215, 5.56115110e-215, 2.68684181e-202,\n",
       "        4.78983207e-196, 3.18333876e-171, 4.91817349e-165,\n",
       "        3.26594639e-187, 4.92501350e-141, 1.57937720e-156,\n",
       "        1.57267391e-125, 4.74479115e-112, 4.35255897e-144,\n",
       "        2.48786644e-091, 2.77238007e-112, 4.47845251e-092,\n",
       "        4.64495631e-054, 8.54179167e-049, 9.79711744e-001,\n",
       "        2.02882518e-002, 3.67516327e-009, 1.34234943e-093,\n",
       "        1.83345874e-307],\n",
       "       [1.77862074e-007, 4.53285239e-007, 4.84098964e-007,\n",
       "        7.90379561e-007, 1.96330457e-006, 1.02752567e-005,\n",
       "        7.23052498e-004, 4.68139293e-003, 6.17935505e-003,\n",
       "        1.95250156e-002, 1.87077324e-002, 3.87742446e-002,\n",
       "        5.33274651e-002, 9.83974069e-002, 1.53026560e-001,\n",
       "        1.51532619e-001, 1.11764298e-001, 1.00409386e-001,\n",
       "        1.20133653e-001, 5.95132500e-002, 3.57582107e-002,\n",
       "        2.12869472e-002, 5.56297018e-003, 5.35604994e-004,\n",
       "        1.36130647e-004, 6.08100959e-007, 9.85775236e-006,\n",
       "        1.45741412e-008, 7.93542394e-008, 5.45619767e-010,\n",
       "        4.60209109e-012, 1.35649890e-018, 1.11708369e-020,\n",
       "        4.91181053e-016, 9.61719937e-029, 6.35083738e-024,\n",
       "        6.11468748e-037, 2.55575474e-044, 7.05560895e-031,\n",
       "        1.53602613e-059, 6.02501534e-048, 2.33654349e-061,\n",
       "        3.87943210e-088, 2.75688254e-093, 1.41273196e-217,\n",
       "        3.78434667e-169, 2.46637520e-279, 0.00000000e+000,\n",
       "        0.00000000e+000],\n",
       "       [9.14138342e-003, 1.30291717e-002, 1.35985274e-002,\n",
       "        1.60842058e-002, 2.18199759e-002, 3.54289042e-002,\n",
       "        1.21432222e-001, 1.37434468e-001, 1.43016431e-001,\n",
       "        1.16578252e-001, 1.21828742e-001, 8.65096427e-002,\n",
       "        7.59387142e-002, 4.28265334e-002, 9.68769801e-003,\n",
       "        8.87127055e-003, 1.41147224e-002, 1.00242450e-002,\n",
       "        1.85524986e-003, 3.25932171e-004, 4.11188941e-004,\n",
       "        3.71067146e-005, 5.33762000e-006, 6.53806819e-008,\n",
       "        8.14514415e-009, 1.80208895e-012, 5.92262217e-010,\n",
       "        3.75086257e-014, 1.93546184e-013, 1.79605757e-016,\n",
       "        7.57412097e-019, 4.37651548e-027, 1.58051223e-029,\n",
       "        2.27713120e-023, 2.51182374e-039, 2.49813698e-033,\n",
       "        1.06161730e-048, 3.07240253e-057, 3.30286035e-041,\n",
       "        3.22705241e-074, 7.42691880e-061, 5.17360838e-076,\n",
       "        3.44673034e-106, 6.92594566e-112, 3.90754093e-245,\n",
       "        5.30245226e-194, 1.68897809e-309, 0.00000000e+000,\n",
       "        0.00000000e+000],\n",
       "       [1.08168793e-090, 1.62184295e-088, 2.96467404e-088,\n",
       "        3.09863747e-087, 7.94297806e-085, 5.32175519e-081,\n",
       "        5.04936064e-069, 6.60786558e-063, 2.58698942e-061,\n",
       "        2.98580397e-057, 7.42368476e-057, 5.44360302e-055,\n",
       "        7.30427184e-052, 1.60710196e-049, 1.42838269e-043,\n",
       "        1.58941101e-042, 2.05803388e-042, 4.08046201e-041,\n",
       "        6.55644631e-040, 3.94709616e-036, 3.68820947e-034,\n",
       "        1.89073663e-033, 1.95083537e-029, 6.47300074e-026,\n",
       "        1.31731576e-023, 6.79685520e-020, 1.74106493e-020,\n",
       "        8.14911608e-015, 2.50637089e-016, 6.49734384e-016,\n",
       "        2.86281130e-011, 1.03495666e-008, 8.81490885e-006,\n",
       "        2.27173883e-007, 3.42248370e-004, 3.04760118e-003,\n",
       "        2.60438306e-002, 2.61548194e-004, 7.55634448e-001,\n",
       "        1.83966831e-003, 2.01504982e-001, 1.13159713e-002,\n",
       "        6.33650618e-007, 1.57246254e-008, 9.66326696e-071,\n",
       "        1.54148479e-037, 1.31789519e-108, 3.12004057e-257,\n",
       "        0.00000000e+000],\n",
       "       [2.43871062e-064, 1.50203206e-062, 2.18933799e-062,\n",
       "        1.71507454e-061, 1.42439499e-059, 2.71445365e-056,\n",
       "        8.51274990e-047, 7.76198364e-042, 8.79783078e-041,\n",
       "        2.46629774e-037, 3.16557471e-037, 3.34411395e-035,\n",
       "        3.38054314e-033, 7.28753285e-031, 3.86648558e-026,\n",
       "        1.47480452e-025, 3.00540048e-026, 1.99375958e-025,\n",
       "        3.80273556e-023, 1.58053875e-020, 2.51374049e-020,\n",
       "        1.99784144e-018, 3.19871953e-016, 3.46732587e-013,\n",
       "        1.00532174e-011, 1.93519093e-008, 8.99028766e-011,\n",
       "        1.21581883e-006, 5.79324620e-007, 4.31871862e-006,\n",
       "        2.99726064e-004, 7.70658758e-003, 9.90956626e-002,\n",
       "        3.11872457e-003, 1.59520305e-001, 5.30914429e-001,\n",
       "        2.26531121e-002, 9.54023754e-005, 1.76555781e-001,\n",
       "        1.70778562e-008, 3.41152583e-005, 4.46671768e-009,\n",
       "        7.12221504e-018, 3.64491243e-020, 1.01876056e-095,\n",
       "        2.82576313e-060, 1.98089567e-140, 3.18095386e-295,\n",
       "        0.00000000e+000],\n",
       "       [5.02386563e-048, 1.64085045e-046, 2.02563622e-046,\n",
       "        1.29845746e-045, 4.80463986e-044, 3.78517904e-041,\n",
       "        1.96870690e-033, 2.68710197e-029, 1.23188676e-028,\n",
       "        1.27950497e-025, 1.00527190e-025, 1.44694797e-023,\n",
       "        2.20969806e-022, 4.90515035e-020, 3.49995871e-016,\n",
       "        6.07948070e-016, 3.07853306e-017, 9.18960637e-017,\n",
       "        1.16520460e-013, 7.01259341e-012, 5.38025654e-013,\n",
       "        3.46391837e-010, 2.62752041e-009, 1.34830217e-006,\n",
       "        9.54155738e-006, 9.93393715e-003, 2.14312569e-006,\n",
       "        2.38945632e-003, 8.60708830e-003, 1.50707908e-001,\n",
       "        9.20416083e-002, 3.90367832e-001, 2.35032284e-001,\n",
       "        7.52182569e-003, 4.20132235e-002, 6.11397885e-002,\n",
       "        6.41618919e-005, 1.57324067e-007, 1.67692406e-004,\n",
       "        1.34110426e-014, 1.95732884e-010, 3.41076991e-016,\n",
       "        3.24036634e-028, 5.42716663e-031, 4.75700990e-116,\n",
       "        4.69022150e-079, 1.03572396e-165, 0.00000000e+000,\n",
       "        0.00000000e+000],\n",
       "       [9.99085148e-042, 2.35420728e-040, 3.14011735e-040,\n",
       "        1.52434619e-039, 4.41526792e-038, 1.40014156e-035,\n",
       "        2.22673988e-028, 1.13754974e-024, 6.89926339e-024,\n",
       "        2.45197523e-021, 2.94315719e-021, 9.00294179e-020,\n",
       "        2.61859941e-018, 1.27987846e-016, 2.90346510e-013,\n",
       "        7.56248973e-013, 2.46260288e-013, 9.11458859e-013,\n",
       "        3.26581491e-011, 1.83345442e-009, 2.49788219e-009,\n",
       "        3.90328837e-008, 9.83293355e-007, 6.05203889e-005,\n",
       "        4.30075184e-004, 1.50101599e-002, 1.02790376e-003,\n",
       "        1.06718116e-001, 9.83448666e-002, 7.97721880e-002,\n",
       "        4.21247532e-001, 3.98224763e-002, 6.02390549e-002,\n",
       "        1.55298842e-001, 2.86672701e-004, 2.16526902e-002,\n",
       "        2.61485885e-007, 3.12805162e-011, 8.76140589e-005,\n",
       "        2.17552346e-018, 1.50797245e-012, 2.62990998e-019,\n",
       "        1.51491642e-033, 1.05525186e-036, 5.72114985e-127,\n",
       "        1.47346646e-087, 9.54869874e-177, 0.00000000e+000,\n",
       "        0.00000000e+000],\n",
       "       [5.14219502e-002, 6.32513675e-002, 6.45320107e-002,\n",
       "        7.16250711e-002, 8.18858268e-002, 1.03600877e-001,\n",
       "        1.49953256e-001, 1.09126563e-001, 9.89559788e-002,\n",
       "        6.06446438e-002, 6.03962462e-002, 3.90236926e-002,\n",
       "        2.58488827e-002, 1.26484911e-002, 1.77577113e-003,\n",
       "        1.46571635e-003, 2.16899519e-003, 1.36004213e-003,\n",
       "        2.51190625e-004, 3.08258950e-005, 2.96217381e-005,\n",
       "        2.72476657e-006, 2.52758439e-007, 2.19785188e-009,\n",
       "        2.11863396e-010, 3.01144892e-014, 9.91224451e-012,\n",
       "        3.16233895e-016, 2.06567462e-015, 1.66068562e-018,\n",
       "        3.64801398e-021, 1.04833139e-029, 2.37096360e-032,\n",
       "        5.25255368e-026, 1.77405268e-042, 2.22893795e-036,\n",
       "        3.12316209e-052, 6.10434521e-061, 1.27717873e-044,\n",
       "        1.56026002e-078, 7.51142964e-065, 1.90416681e-080,\n",
       "        1.99552760e-111, 3.00386107e-117, 9.79388690e-253,\n",
       "        4.37802486e-201, 5.17123195e-318, 0.00000000e+000,\n",
       "        0.00000000e+000],\n",
       "       [1.52318472e-013, 6.72195278e-013, 7.39880408e-013,\n",
       "        1.62329022e-012, 7.20447149e-012, 1.11276588e-010,\n",
       "        1.42750089e-007, 4.80069482e-006, 8.24594362e-006,\n",
       "        9.10313483e-005, 8.32201301e-005, 4.34341109e-004,\n",
       "        9.92868585e-004, 5.18664589e-003, 4.95662677e-002,\n",
       "        5.51138526e-002, 2.24714100e-002, 2.60407991e-002,\n",
       "        1.43584117e-001, 1.98728015e-001, 7.45670387e-002,\n",
       "        2.05794303e-001, 1.09138164e-001, 6.73676314e-002,\n",
       "        3.48795325e-002, 2.27183634e-003, 3.13783815e-003,\n",
       "        8.60176141e-005, 4.34998708e-004, 1.65397659e-005,\n",
       "        3.40757233e-007, 3.55286887e-012, 7.25606447e-014,\n",
       "        1.48141952e-010, 2.38551308e-020, 1.52414711e-016,\n",
       "        2.15871672e-027, 9.75538953e-034, 1.46721150e-022,\n",
       "        3.25641559e-047, 3.15739031e-037, 5.43831382e-049,\n",
       "        1.36736599e-072, 3.15521486e-077, 4.52946963e-193,\n",
       "        4.09755093e-147, 3.06621360e-252, 0.00000000e+000,\n",
       "        0.00000000e+000]])"
      ]
     },
     "execution_count": 324,
     "metadata": {},
     "output_type": "execute_result"
    }
   ],
   "source": [
    "prob_log_reg = log_reg.predict_proba(X_train)\n",
    "prob_log_reg[:20]"
   ]
  },
  {
   "cell_type": "markdown",
   "id": "d4e59cd4",
   "metadata": {},
   "source": [
    "##### Here, we have the first 20 predicted probabilities for the training data:"
   ]
  },
  {
   "cell_type": "code",
   "execution_count": 325,
   "id": "2e8337a9",
   "metadata": {},
   "outputs": [
    {
     "data": {
      "text/plain": [
       "array([   173300,  18989660,   9429185, 984444295,  16474175,   8373210,\n",
       "        12349530,   3352025,  29638290,  10282120,  61526685,  61302975,\n",
       "         4677910,   2176065,  28727475,  22359840,  17769135,  17172490,\n",
       "         1281755,   8421900])"
      ]
     },
     "execution_count": 325,
     "metadata": {},
     "output_type": "execute_result"
    }
   ],
   "source": [
    "y_pred_log_reg = log_reg.predict(X_train)\n",
    "y_pred_log_reg[:20]"
   ]
  },
  {
   "cell_type": "code",
   "execution_count": 326,
   "id": "4c460904",
   "metadata": {},
   "outputs": [
    {
     "data": {
      "text/plain": [
       "False"
      ]
     },
     "execution_count": 326,
     "metadata": {},
     "output_type": "execute_result"
    }
   ],
   "source": [
    "np.all(y_pred_log_reg == (prob_log_reg[:,2] > 0.5))"
   ]
  },
  {
   "cell_type": "code",
   "execution_count": 327,
   "id": "b4e43378",
   "metadata": {},
   "outputs": [
    {
     "data": {
      "text/plain": [
       "total_doses_bin                               0.00\n",
       "total doses administered by jurisdiction   -613.34\n",
       "total doses distributed                    -619.89\n",
       "dtype: float64"
      ]
     },
     "execution_count": 327,
     "metadata": {},
     "output_type": "execute_result"
    }
   ],
   "source": [
    "pd.Series(data=log_reg.coef_[0], index=X_train.columns).sort_values(ascending=False).round(2)"
   ]
  },
  {
   "cell_type": "markdown",
   "id": "d1bc64e3",
   "metadata": {},
   "source": [
    "##### Finally, we have the coefficients associated with each of the features used:"
   ]
  },
  {
   "cell_type": "code",
   "execution_count": 328,
   "id": "16a756c8",
   "metadata": {},
   "outputs": [
    {
     "data": {
      "text/plain": [
       "0.8571428571428571"
      ]
     },
     "execution_count": 328,
     "metadata": {},
     "output_type": "execute_result"
    }
   ],
   "source": [
    "from sklearn.metrics import accuracy_score\n",
    "accuracy_log_reg = accuracy_score(y_true=y_train, y_pred=y_pred_log_reg)\n",
    "accuracy_log_reg"
   ]
  },
  {
   "cell_type": "markdown",
   "id": "8d13fbc2",
   "metadata": {},
   "source": [
    "##### 85.71% of the predictions made in the training set are correct."
   ]
  },
  {
   "cell_type": "markdown",
   "id": "395dc23c",
   "metadata": {},
   "source": [
    "### Classification Trees"
   ]
  },
  {
   "cell_type": "code",
   "execution_count": 329,
   "id": "618965a5",
   "metadata": {},
   "outputs": [
    {
     "data": {
      "text/html": [
       "<style>#sk-container-id-18 {color: black;}#sk-container-id-18 pre{padding: 0;}#sk-container-id-18 div.sk-toggleable {background-color: white;}#sk-container-id-18 label.sk-toggleable__label {cursor: pointer;display: block;width: 100%;margin-bottom: 0;padding: 0.3em;box-sizing: border-box;text-align: center;}#sk-container-id-18 label.sk-toggleable__label-arrow:before {content: \"▸\";float: left;margin-right: 0.25em;color: #696969;}#sk-container-id-18 label.sk-toggleable__label-arrow:hover:before {color: black;}#sk-container-id-18 div.sk-estimator:hover label.sk-toggleable__label-arrow:before {color: black;}#sk-container-id-18 div.sk-toggleable__content {max-height: 0;max-width: 0;overflow: hidden;text-align: left;background-color: #f0f8ff;}#sk-container-id-18 div.sk-toggleable__content pre {margin: 0.2em;color: black;border-radius: 0.25em;background-color: #f0f8ff;}#sk-container-id-18 input.sk-toggleable__control:checked~div.sk-toggleable__content {max-height: 200px;max-width: 100%;overflow: auto;}#sk-container-id-18 input.sk-toggleable__control:checked~label.sk-toggleable__label-arrow:before {content: \"▾\";}#sk-container-id-18 div.sk-estimator input.sk-toggleable__control:checked~label.sk-toggleable__label {background-color: #d4ebff;}#sk-container-id-18 div.sk-label input.sk-toggleable__control:checked~label.sk-toggleable__label {background-color: #d4ebff;}#sk-container-id-18 input.sk-hidden--visually {border: 0;clip: rect(1px 1px 1px 1px);clip: rect(1px, 1px, 1px, 1px);height: 1px;margin: -1px;overflow: hidden;padding: 0;position: absolute;width: 1px;}#sk-container-id-18 div.sk-estimator {font-family: monospace;background-color: #f0f8ff;border: 1px dotted black;border-radius: 0.25em;box-sizing: border-box;margin-bottom: 0.5em;}#sk-container-id-18 div.sk-estimator:hover {background-color: #d4ebff;}#sk-container-id-18 div.sk-parallel-item::after {content: \"\";width: 100%;border-bottom: 1px solid gray;flex-grow: 1;}#sk-container-id-18 div.sk-label:hover label.sk-toggleable__label {background-color: #d4ebff;}#sk-container-id-18 div.sk-serial::before {content: \"\";position: absolute;border-left: 1px solid gray;box-sizing: border-box;top: 0;bottom: 0;left: 50%;z-index: 0;}#sk-container-id-18 div.sk-serial {display: flex;flex-direction: column;align-items: center;background-color: white;padding-right: 0.2em;padding-left: 0.2em;position: relative;}#sk-container-id-18 div.sk-item {position: relative;z-index: 1;}#sk-container-id-18 div.sk-parallel {display: flex;align-items: stretch;justify-content: center;background-color: white;position: relative;}#sk-container-id-18 div.sk-item::before, #sk-container-id-18 div.sk-parallel-item::before {content: \"\";position: absolute;border-left: 1px solid gray;box-sizing: border-box;top: 0;bottom: 0;left: 50%;z-index: -1;}#sk-container-id-18 div.sk-parallel-item {display: flex;flex-direction: column;z-index: 1;position: relative;background-color: white;}#sk-container-id-18 div.sk-parallel-item:first-child::after {align-self: flex-end;width: 50%;}#sk-container-id-18 div.sk-parallel-item:last-child::after {align-self: flex-start;width: 50%;}#sk-container-id-18 div.sk-parallel-item:only-child::after {width: 0;}#sk-container-id-18 div.sk-dashed-wrapped {border: 1px dashed gray;margin: 0 0.4em 0.5em 0.4em;box-sizing: border-box;padding-bottom: 0.4em;background-color: white;}#sk-container-id-18 div.sk-label label {font-family: monospace;font-weight: bold;display: inline-block;line-height: 1.2em;}#sk-container-id-18 div.sk-label-container {text-align: center;}#sk-container-id-18 div.sk-container {/* jupyter's `normalize.less` sets `[hidden] { display: none; }` but bootstrap.min.css set `[hidden] { display: none !important; }` so we also need the `!important` here to be able to override the default hidden behavior on the sphinx rendered scikit-learn.org. See: https://github.com/scikit-learn/scikit-learn/issues/21755 */display: inline-block !important;position: relative;}#sk-container-id-18 div.sk-text-repr-fallback {display: none;}</style><div id=\"sk-container-id-18\" class=\"sk-top-container\"><div class=\"sk-text-repr-fallback\"><pre>DecisionTreeClassifier(max_depth=3)</pre><b>In a Jupyter environment, please rerun this cell to show the HTML representation or trust the notebook. <br />On GitHub, the HTML representation is unable to render, please try loading this page with nbviewer.org.</b></div><div class=\"sk-container\" hidden><div class=\"sk-item\"><div class=\"sk-estimator sk-toggleable\"><input class=\"sk-toggleable__control sk-hidden--visually\" id=\"sk-estimator-id-18\" type=\"checkbox\" checked><label for=\"sk-estimator-id-18\" class=\"sk-toggleable__label sk-toggleable__label-arrow\">DecisionTreeClassifier</label><div class=\"sk-toggleable__content\"><pre>DecisionTreeClassifier(max_depth=3)</pre></div></div></div></div></div>"
      ],
      "text/plain": [
       "DecisionTreeClassifier(max_depth=3)"
      ]
     },
     "execution_count": 329,
     "metadata": {},
     "output_type": "execute_result"
    }
   ],
   "source": [
    "from sklearn.tree import DecisionTreeClassifier\n",
    "class_tree = DecisionTreeClassifier(max_depth=3)\n",
    "class_tree.fit(X_train, y_train)"
   ]
  },
  {
   "cell_type": "code",
   "execution_count": 330,
   "id": "0e0e88b3",
   "metadata": {},
   "outputs": [],
   "source": [
    "import six\n",
    "import sys\n",
    "sys.modules['sklearn.externals.six'] = six"
   ]
  },
  {
   "cell_type": "code",
   "execution_count": 331,
   "id": "0af7a9b1",
   "metadata": {},
   "outputs": [],
   "source": [
    "from sklearn.ensemble import RandomForestClassifier\n",
    "rf = RandomForestClassifier(n_estimators=23,\n",
    "                            max_features=3,\n",
    "                            max_depth=3,\n",
    "                            min_samples_split=20,\n",
    "                            random_state=49)\n",
    "rf.fit(X_train, y_train)\n",
    "y_pred_rf = rf.predict(X_train)"
   ]
  },
  {
   "cell_type": "code",
   "execution_count": 332,
   "id": "5d6c9df3",
   "metadata": {},
   "outputs": [
    {
     "data": {
      "text/plain": [
       "0.40816326530612246"
      ]
     },
     "execution_count": 332,
     "metadata": {},
     "output_type": "execute_result"
    }
   ],
   "source": [
    "accuracy_rf = accuracy_score(y_true=y_train, y_pred=y_pred_rf)\n",
    "accuracy_rf"
   ]
  },
  {
   "cell_type": "code",
   "execution_count": 333,
   "id": "4e064989",
   "metadata": {},
   "outputs": [
    {
     "data": {
      "text/plain": [
       "total doses administered by jurisdiction    0.54\n",
       "total doses distributed                     0.46\n",
       "total_doses_bin                             0.00\n",
       "dtype: float64"
      ]
     },
     "execution_count": 333,
     "metadata": {},
     "output_type": "execute_result"
    }
   ],
   "source": [
    "pd.Series(data=rf.feature_importances_, index=X_train.columns).sort_values(ascending=False).round(3)\n"
   ]
  },
  {
   "cell_type": "markdown",
   "id": "e76e6630",
   "metadata": {},
   "source": [
    "##### 54% of the target feature is accurate."
   ]
  },
  {
   "cell_type": "markdown",
   "id": "68f99689",
   "metadata": {},
   "source": [
    "### Training vs Testing Error"
   ]
  },
  {
   "cell_type": "code",
   "execution_count": 334,
   "id": "6ed07845",
   "metadata": {},
   "outputs": [
    {
     "data": {
      "text/plain": [
       "0.0"
      ]
     },
     "execution_count": 334,
     "metadata": {},
     "output_type": "execute_result"
    }
   ],
   "source": [
    "from sklearn.metrics import accuracy_score\n",
    "\n",
    "y_pred_null = np.zeros_like(y_test)\n",
    "accuracy_score(y_true=y_test, y_pred=y_pred_null)"
   ]
  },
  {
   "cell_type": "code",
   "execution_count": 335,
   "id": "904f91cf",
   "metadata": {},
   "outputs": [],
   "source": [
    "#standarize the numerical features in the testing set\n",
    "X_test.loc[:, numerical_features] = scaler.transform(X_test[numerical_features])"
   ]
  },
  {
   "cell_type": "code",
   "execution_count": 336,
   "id": "94d04abb",
   "metadata": {},
   "outputs": [
    {
     "data": {
      "text/html": [
       "<div>\n",
       "<style scoped>\n",
       "    .dataframe tbody tr th:only-of-type {\n",
       "        vertical-align: middle;\n",
       "    }\n",
       "\n",
       "    .dataframe tbody tr th {\n",
       "        vertical-align: top;\n",
       "    }\n",
       "\n",
       "    .dataframe thead th {\n",
       "        text-align: right;\n",
       "    }\n",
       "</style>\n",
       "<table border=\"1\" class=\"dataframe\">\n",
       "  <thead>\n",
       "    <tr style=\"text-align: right;\">\n",
       "      <th></th>\n",
       "      <th>train</th>\n",
       "      <th>test</th>\n",
       "    </tr>\n",
       "  </thead>\n",
       "  <tbody>\n",
       "    <tr>\n",
       "      <th>LogisticReg</th>\n",
       "      <td>0.857143</td>\n",
       "      <td>0.0</td>\n",
       "    </tr>\n",
       "    <tr>\n",
       "      <th>ClassTree</th>\n",
       "      <td>0.081633</td>\n",
       "      <td>0.0</td>\n",
       "    </tr>\n",
       "    <tr>\n",
       "      <th>RF</th>\n",
       "      <td>0.408163</td>\n",
       "      <td>0.0</td>\n",
       "    </tr>\n",
       "  </tbody>\n",
       "</table>\n",
       "</div>"
      ],
      "text/plain": [
       "                train test\n",
       "LogisticReg  0.857143  0.0\n",
       "ClassTree    0.081633  0.0\n",
       "RF           0.408163  0.0"
      ]
     },
     "execution_count": 336,
     "metadata": {},
     "output_type": "execute_result"
    }
   ],
   "source": [
    "# Calculating accuracy\n",
    "accuracies = pd.DataFrame(columns=['train', 'test'], index=['LogisticReg','ClassTree','RF'])\n",
    "model_dict = {'LogisticReg': log_reg, 'ClassTree': class_tree, 'RF': rf}\n",
    "for name, model in model_dict.items():\n",
    "    accuracies.loc[name, 'train'] = accuracy_score(y_true=y_train, y_pred=model.predict(X_train))\n",
    "    accuracies.loc[name, 'test'] = accuracy_score(y_true=y_test, y_pred=model.predict(X_test))\n",
    "\n",
    "accuracies"
   ]
  },
  {
   "cell_type": "markdown",
   "id": "53cfebc5",
   "metadata": {},
   "source": [
    "##### The 3 models are performing inequally."
   ]
  },
  {
   "cell_type": "code",
   "execution_count": 337,
   "id": "3c39a06f",
   "metadata": {},
   "outputs": [
    {
     "data": {
      "image/png": "[encoded data removed]",
      "text/plain": [
       "<Figure size 640x480 with 1 Axes>"
      ]
     },
     "metadata": {},
     "output_type": "display_data"
    }
   ],
   "source": [
    "#model traaning vizualization\n",
    "fig, ax = plt.subplots()\n",
    "accuracies.sort_values(by='test', ascending=False).plot(kind='barh', ax=ax, zorder=3)\n",
    "ax.grid(zorder=0)"
   ]
  },
  {
   "cell_type": "markdown",
   "id": "f314d1a4",
   "metadata": {},
   "source": [
    "### Performance metrics"
   ]
  },
  {
   "cell_type": "code",
   "execution_count": 338,
   "id": "b6be838c",
   "metadata": {},
   "outputs": [],
   "source": [
    "from sklearn.linear_model import LinearRegression\n",
    "ml_reg = LinearRegression()\n",
    "ml_reg.fit(X_train, y_train)\n",
    "y_pred = ml_reg.predict(X_test)"
   ]
  },
  {
   "cell_type": "code",
   "execution_count": 339,
   "id": "022c8133",
   "metadata": {},
   "outputs": [
    {
     "data": {
      "text/html": [
       "<style>#sk-container-id-19 {color: black;}#sk-container-id-19 pre{padding: 0;}#sk-container-id-19 div.sk-toggleable {background-color: white;}#sk-container-id-19 label.sk-toggleable__label {cursor: pointer;display: block;width: 100%;margin-bottom: 0;padding: 0.3em;box-sizing: border-box;text-align: center;}#sk-container-id-19 label.sk-toggleable__label-arrow:before {content: \"▸\";float: left;margin-right: 0.25em;color: #696969;}#sk-container-id-19 label.sk-toggleable__label-arrow:hover:before {color: black;}#sk-container-id-19 div.sk-estimator:hover label.sk-toggleable__label-arrow:before {color: black;}#sk-container-id-19 div.sk-toggleable__content {max-height: 0;max-width: 0;overflow: hidden;text-align: left;background-color: #f0f8ff;}#sk-container-id-19 div.sk-toggleable__content pre {margin: 0.2em;color: black;border-radius: 0.25em;background-color: #f0f8ff;}#sk-container-id-19 input.sk-toggleable__control:checked~div.sk-toggleable__content {max-height: 200px;max-width: 100%;overflow: auto;}#sk-container-id-19 input.sk-toggleable__control:checked~label.sk-toggleable__label-arrow:before {content: \"▾\";}#sk-container-id-19 div.sk-estimator input.sk-toggleable__control:checked~label.sk-toggleable__label {background-color: #d4ebff;}#sk-container-id-19 div.sk-label input.sk-toggleable__control:checked~label.sk-toggleable__label {background-color: #d4ebff;}#sk-container-id-19 input.sk-hidden--visually {border: 0;clip: rect(1px 1px 1px 1px);clip: rect(1px, 1px, 1px, 1px);height: 1px;margin: -1px;overflow: hidden;padding: 0;position: absolute;width: 1px;}#sk-container-id-19 div.sk-estimator {font-family: monospace;background-color: #f0f8ff;border: 1px dotted black;border-radius: 0.25em;box-sizing: border-box;margin-bottom: 0.5em;}#sk-container-id-19 div.sk-estimator:hover {background-color: #d4ebff;}#sk-container-id-19 div.sk-parallel-item::after {content: \"\";width: 100%;border-bottom: 1px solid gray;flex-grow: 1;}#sk-container-id-19 div.sk-label:hover label.sk-toggleable__label {background-color: #d4ebff;}#sk-container-id-19 div.sk-serial::before {content: \"\";position: absolute;border-left: 1px solid gray;box-sizing: border-box;top: 0;bottom: 0;left: 50%;z-index: 0;}#sk-container-id-19 div.sk-serial {display: flex;flex-direction: column;align-items: center;background-color: white;padding-right: 0.2em;padding-left: 0.2em;position: relative;}#sk-container-id-19 div.sk-item {position: relative;z-index: 1;}#sk-container-id-19 div.sk-parallel {display: flex;align-items: stretch;justify-content: center;background-color: white;position: relative;}#sk-container-id-19 div.sk-item::before, #sk-container-id-19 div.sk-parallel-item::before {content: \"\";position: absolute;border-left: 1px solid gray;box-sizing: border-box;top: 0;bottom: 0;left: 50%;z-index: -1;}#sk-container-id-19 div.sk-parallel-item {display: flex;flex-direction: column;z-index: 1;position: relative;background-color: white;}#sk-container-id-19 div.sk-parallel-item:first-child::after {align-self: flex-end;width: 50%;}#sk-container-id-19 div.sk-parallel-item:last-child::after {align-self: flex-start;width: 50%;}#sk-container-id-19 div.sk-parallel-item:only-child::after {width: 0;}#sk-container-id-19 div.sk-dashed-wrapped {border: 1px dashed gray;margin: 0 0.4em 0.5em 0.4em;box-sizing: border-box;padding-bottom: 0.4em;background-color: white;}#sk-container-id-19 div.sk-label label {font-family: monospace;font-weight: bold;display: inline-block;line-height: 1.2em;}#sk-container-id-19 div.sk-label-container {text-align: center;}#sk-container-id-19 div.sk-container {/* jupyter's `normalize.less` sets `[hidden] { display: none; }` but bootstrap.min.css set `[hidden] { display: none !important; }` so we also need the `!important` here to be able to override the default hidden behavior on the sphinx rendered scikit-learn.org. See: https://github.com/scikit-learn/scikit-learn/issues/21755 */display: inline-block !important;position: relative;}#sk-container-id-19 div.sk-text-repr-fallback {display: none;}</style><div id=\"sk-container-id-19\" class=\"sk-top-container\"><div class=\"sk-text-repr-fallback\"><pre>RandomForestClassifier(max_depth=3, max_features=3, n_estimators=23,\n",
       "                       random_state=40)</pre><b>In a Jupyter environment, please rerun this cell to show the HTML representation or trust the notebook. <br />On GitHub, the HTML representation is unable to render, please try loading this page with nbviewer.org.</b></div><div class=\"sk-container\" hidden><div class=\"sk-item\"><div class=\"sk-estimator sk-toggleable\"><input class=\"sk-toggleable__control sk-hidden--visually\" id=\"sk-estimator-id-19\" type=\"checkbox\" checked><label for=\"sk-estimator-id-19\" class=\"sk-toggleable__label sk-toggleable__label-arrow\">RandomForestClassifier</label><div class=\"sk-toggleable__content\"><pre>RandomForestClassifier(max_depth=3, max_features=3, n_estimators=23,\n",
       "                       random_state=40)</pre></div></div></div></div></div>"
      ],
      "text/plain": [
       "RandomForestClassifier(max_depth=3, max_features=3, n_estimators=23,\n",
       "                       random_state=40)"
      ]
     },
     "execution_count": 339,
     "metadata": {},
     "output_type": "execute_result"
    }
   ],
   "source": [
    "from sklearn.ensemble import RandomForestClassifier\n",
    "rf = RandomForestClassifier(n_estimators=23,\n",
    "                            max_features=3,\n",
    "                            max_depth=3,\n",
    "                            random_state=40)\n",
    "rf.fit(X_train, y_train)"
   ]
  },
  {
   "cell_type": "code",
   "execution_count": 340,
   "id": "b4541ab1",
   "metadata": {},
   "outputs": [
    {
     "name": "stdout",
     "output_type": "stream",
     "text": [
      "RMSE: 0.00\n"
     ]
    }
   ],
   "source": [
    "#Root Mean Squared Error\n",
    "\n",
    "from sklearn.metrics import mean_squared_error\n",
    "rmse = mean_squared_error(y_true=y_test, y_pred=y_pred)**0.5\n",
    "print(\"RMSE: {:,.2f}\".format(rmse))\n"
   ]
  },
  {
   "cell_type": "code",
   "execution_count": 341,
   "id": "410fd069",
   "metadata": {},
   "outputs": [
    {
     "name": "stdout",
     "output_type": "stream",
     "text": [
      "MAE: 0.00\n"
     ]
    }
   ],
   "source": [
    "##Mean Absolute Error\n",
    "from sklearn.metrics import mean_absolute_error\n",
    "mae = mean_absolute_error(y_true=y_test, y_pred=y_pred)\n",
    "print(\"MAE: {:,.2f}\".format(mae))"
   ]
  },
  {
   "cell_type": "code",
   "execution_count": 342,
   "id": "eeeec4c1",
   "metadata": {},
   "outputs": [
    {
     "name": "stdout",
     "output_type": "stream",
     "text": [
      "R-squared: 1.00\n"
     ]
    }
   ],
   "source": [
    "## R-squared (R2)\n",
    "from sklearn.metrics import r2_score\n",
    "r2 = r2_score(y_true=y_test, y_pred=y_pred)\n",
    "print(\"R-squared: {:,.2f}\".format(r2))"
   ]
  },
  {
   "cell_type": "code",
   "execution_count": 343,
   "id": "1a9149fb",
   "metadata": {},
   "outputs": [],
   "source": [
    "eval_df = pd.DataFrame({\"y_true\": y_test, \"y_pred\": y_pred, \"residuals\": y_test - y_pred})\n"
   ]
  },
  {
   "cell_type": "code",
   "execution_count": 344,
   "id": "9baf8c8b",
   "metadata": {},
   "outputs": [],
   "source": [
    "## Costum metric: Percentage of Predictions Within Acceptable Error\n",
    "eval_df[\"prop_error\"] = eval_df[\"residuals\"].abs()/eval_df[\"y_true\"]\n"
   ]
  },
  {
   "cell_type": "code",
   "execution_count": 345,
   "id": "b32e2ba3",
   "metadata": {},
   "outputs": [
    {
     "name": "stdout",
     "output_type": "stream",
     "text": [
      "Costum metric: 100.0%\n"
     ]
    }
   ],
   "source": [
    "costum_metric = 100*(eval_df[\"prop_error\"] < 0.15).mean()\n",
    "print(\"Costum metric: {:,.1f}%\".format(costum_metric))"
   ]
  },
  {
   "cell_type": "markdown",
   "id": "5388533a",
   "metadata": {},
   "source": [
    "### Model Visualization"
   ]
  },
  {
   "cell_type": "code",
   "execution_count": 346,
   "id": "7b8e97ae",
   "metadata": {},
   "outputs": [
    {
     "data": {
      "image/png": "[encoded data removed]",
      "text/plain": [
       "<Figure size 640x480 with 1 Axes>"
      ]
     },
     "metadata": {},
     "output_type": "display_data"
    }
   ],
   "source": [
    "## Distributions of residuals\n",
    "eval_df[\"residuals\"].hist(bins=25, ec='k');\n"
   ]
  },
  {
   "cell_type": "code",
   "execution_count": 347,
   "id": "de54d1e2",
   "metadata": {},
   "outputs": [
    {
     "data": {
      "text/plain": [
       "0.9"
      ]
     },
     "execution_count": 347,
     "metadata": {},
     "output_type": "execute_result"
    }
   ],
   "source": [
    "(eval_df[\"residuals\"] <=0).mean()"
   ]
  },
  {
   "cell_type": "code",
   "execution_count": 348,
   "id": "283a2315",
   "metadata": {},
   "outputs": [
    {
     "data": {
      "image/png": "[encoded data removed]",
      "text/plain": [
       "<Figure size 800x500 with 1 Axes>"
      ]
     },
     "metadata": {},
     "output_type": "display_data"
    }
   ],
   "source": [
    "## Observed vs. predicted values plot\n",
    "fig, ax = plt.subplots(figsize=(8,5))\n",
    "ax.scatter(eval_df[\"y_true\"], eval_df[\"y_pred\"], s=3)\n",
    "ax.plot(eval_df[\"y_true\"], eval_df[\"y_true\"], color='red')\n",
    "ax.set_title('Predictions vs. observed values', fontsize=16)\n",
    "ax.set_xlabel('Observed target', fontsize=14)\n",
    "ax.set_ylabel('Predicted target', fontsize=14)\n",
    "ax.grid();"
   ]
  },
  {
   "cell_type": "code",
   "execution_count": 349,
   "id": "328dcca0",
   "metadata": {},
   "outputs": [
    {
     "data": {
      "text/plain": [
       "Series([], Name: y_pred, dtype: float64)"
      ]
     },
     "execution_count": 349,
     "metadata": {},
     "output_type": "execute_result"
    }
   ],
   "source": [
    "eval_df[\"y_pred\"].loc[eval_df[\"y_pred\"]<0][:5]\n"
   ]
  },
  {
   "cell_type": "code",
   "execution_count": 350,
   "id": "4814ecb2",
   "metadata": {},
   "outputs": [
    {
     "data": {
      "image/png": "[encoded data removed]",
      "text/plain": [
       "<Figure size 800x500 with 1 Axes>"
      ]
     },
     "metadata": {},
     "output_type": "display_data"
    }
   ],
   "source": [
    "##Predicted values vs. residuals\n",
    "fig, ax = plt.subplots(figsize=(8,5))\n",
    "ax.scatter(eval_df[\"y_pred\"], eval_df[\"residuals\"], s=3)\n",
    "ax.set_title('Predictions vs. residuals', fontsize=16)\n",
    "ax.set_xlabel('Predictions', fontsize=14)\n",
    "ax.set_ylabel('Residuals', fontsize=14)\n",
    "ax.axhline(color='k'); ax.axvline(color='k');\n",
    "ax.grid();"
   ]
  },
  {
   "cell_type": "markdown",
   "id": "43f8eeac",
   "metadata": {},
   "source": [
    "### K-fold cross validation for model evaluation"
   ]
  },
  {
   "cell_type": "code",
   "execution_count": 351,
   "id": "d4520c96",
   "metadata": {},
   "outputs": [
    {
     "name": "stdout",
     "output_type": "stream",
     "text": [
      "MAE: 0.00\n"
     ]
    }
   ],
   "source": [
    "## Train-test split\n",
    "X_train, X_test, y_train, y_test = train_test_split(X, y, test_size=0.1, random_state=2)\n",
    "\n",
    "## Standardize the numeric features \n",
    "scaler = StandardScaler()\n",
    "scaler.fit(X_train[numerical_features])\n",
    "X_train.loc[:, numerical_features] = scaler.fit_transform(X_train[numerical_features])\n",
    "X_test.loc[:, numerical_features] = scaler.transform(X_test[numerical_features])\n",
    "\n",
    "## Model training\n",
    "ml_reg = LinearRegression()\n",
    "ml_reg.fit(X_train, y_train)\n",
    "\n",
    "## predictions\n",
    "y_pred = ml_reg.predict(X_test)\n",
    "\n",
    "## Evaluate the model using the same metric\n",
    "mae = mean_absolute_error(y_true=y_test, y_pred=y_pred)\n",
    "print(\"MAE: {:,.2f}\".format(mae))"
   ]
  },
  {
   "cell_type": "code",
   "execution_count": 352,
   "id": "00b5ed31",
   "metadata": {},
   "outputs": [
    {
     "data": {
      "text/plain": [
       "array([8.31981500e-08, 2.73187955e-08, 9.31322575e-09, 7.45058060e-09,\n",
       "       6.20881716e-10, 1.11758709e-08, 8.69234403e-09, 4.34617201e-09,\n",
       "       1.86264515e-08, 1.49011612e-08])"
      ]
     },
     "execution_count": 352,
     "metadata": {},
     "output_type": "execute_result"
    }
   ],
   "source": [
    "from sklearn.model_selection import cross_validate, RepeatedKFold\n",
    "\n",
    "## Scaling the whole dataset\n",
    "scaler = StandardScaler()\n",
    "scaler.fit(X[numerical_features])\n",
    "X.loc[:, numerical_features] = scaler.fit_transform(X[numerical_features])\n",
    "\n",
    "## 10-fold cv\n",
    "ml_reg = LinearRegression()\n",
    "cv_results = cross_validate(ml_reg, X, y, scoring='neg_mean_absolute_error', cv=10)\n",
    "scores = -1*cv_results['test_score']\n",
    "scores"
   ]
  },
  {
   "cell_type": "code",
   "execution_count": 353,
   "id": "d5a2e644",
   "metadata": {},
   "outputs": [
    {
     "data": {
      "text/plain": [
       "1.8564363320668535e-08"
      ]
     },
     "execution_count": 353,
     "metadata": {},
     "output_type": "execute_result"
    }
   ],
   "source": [
    "scores.mean()\n"
   ]
  },
  {
   "cell_type": "code",
   "execution_count": null,
   "id": "7657ea92",
   "metadata": {},
   "outputs": [],
   "source": []
  }
 ],
 "metadata": {
  "kernelspec": {
   "display_name": "Python (myenv)",
   "language": "python",
   "name": "myenv"
  },
  "language_info": {
   "codemirror_mode": {
    "name": "ipython",
    "version": 3
   },
   "file_extension": ".py",
   "mimetype": "text/x-python",
   "name": "python",
   "nbconvert_exporter": "python",
   "pygments_lexer": "ipython3",
   "version": "3.11.5"
  }
 },
 "nbformat": 4,
 "nbformat_minor": 5
}
